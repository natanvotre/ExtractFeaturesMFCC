{
 "cells": [
  {
   "cell_type": "markdown",
   "metadata": {},
   "source": [
    "# Trata as palavras-chave dos arquivos de audio"
   ]
  },
  {
   "cell_type": "markdown",
   "metadata": {},
   "source": [
    "## Carrega a tabela que faz referencia aos arquivos de audio"
   ]
  },
  {
   "cell_type": "code",
   "execution_count": 1,
   "metadata": {},
   "outputs": [],
   "source": [
    "import pandas as pd\n",
    "import numpy as np\n",
    "import matplotlib.pyplot as plt\n",
    "import librosa\n",
    "\n",
    "from librosa.feature import mfcc\n",
    "from scipy.io.wavfile import read as wavread\n",
    "from scipy.io.wavfile import write as wavwrite"
   ]
  },
  {
   "cell_type": "code",
   "execution_count": 2,
   "metadata": {},
   "outputs": [
    {
     "name": "stderr",
     "output_type": "stream",
     "text": [
      "/home/usrp/anaconda3/lib/python3.6/site-packages/h5py/__init__.py:36: FutureWarning: Conversion of the second argument of issubdtype from `float` to `np.floating` is deprecated. In future, it will be treated as `np.float64 == np.dtype(float).type`.\n",
      "  from ._conv import register_converters as _register_converters\n",
      "Using TensorFlow backend.\n"
     ]
    }
   ],
   "source": [
    "import keras\n",
    "from keras.models import Sequential\n",
    "from keras.layers import Dense, Dropout"
   ]
  },
  {
   "cell_type": "code",
   "execution_count": 3,
   "metadata": {},
   "outputs": [
    {
     "data": {
      "text/html": [
       "<div>\n",
       "<style scoped>\n",
       "    .dataframe tbody tr th:only-of-type {\n",
       "        vertical-align: middle;\n",
       "    }\n",
       "\n",
       "    .dataframe tbody tr th {\n",
       "        vertical-align: top;\n",
       "    }\n",
       "\n",
       "    .dataframe thead th {\n",
       "        text-align: right;\n",
       "    }\n",
       "</style>\n",
       "<table border=\"1\" class=\"dataframe\">\n",
       "  <thead>\n",
       "    <tr style=\"text-align: right;\">\n",
       "      <th></th>\n",
       "      <th>Unnamed: 0</th>\n",
       "      <th>type</th>\n",
       "      <th>recOOV</th>\n",
       "      <th>file</th>\n",
       "      <th>idx_abre</th>\n",
       "      <th>Unnamed: 5</th>\n",
       "    </tr>\n",
       "  </thead>\n",
       "  <tbody>\n",
       "    <tr>\n",
       "      <th>0</th>\n",
       "      <td>0</td>\n",
       "      <td>MISC</td>\n",
       "      <td>100</td>\n",
       "      <td>Estevan_3.wav</td>\n",
       "      <td>[4730 76320 131880 180000 212000]</td>\n",
       "      <td>NaN</td>\n",
       "    </tr>\n",
       "    <tr>\n",
       "      <th>1</th>\n",
       "      <td>1</td>\n",
       "      <td>MISC</td>\n",
       "      <td>100</td>\n",
       "      <td>Marina_1.wav</td>\n",
       "      <td>[29450 106430 165400 214060 330190]</td>\n",
       "      <td>NaN</td>\n",
       "    </tr>\n",
       "    <tr>\n",
       "      <th>2</th>\n",
       "      <td>2</td>\n",
       "      <td>MISC</td>\n",
       "      <td>100</td>\n",
       "      <td>Marina_4.wav</td>\n",
       "      <td>[12170 82450 138570 180800 218120 280850 347250]</td>\n",
       "      <td>NaN</td>\n",
       "    </tr>\n",
       "    <tr>\n",
       "      <th>3</th>\n",
       "      <td>3</td>\n",
       "      <td>MISC</td>\n",
       "      <td>100</td>\n",
       "      <td>Marina_6.wav</td>\n",
       "      <td>[25130 57970 125860 199900 239820 277720 33808...</td>\n",
       "      <td>NaN</td>\n",
       "    </tr>\n",
       "    <tr>\n",
       "      <th>4</th>\n",
       "      <td>4</td>\n",
       "      <td>MISC</td>\n",
       "      <td>100</td>\n",
       "      <td>Natan_1.wav</td>\n",
       "      <td>[25670 107110 162700 208770 332250]</td>\n",
       "      <td>NaN</td>\n",
       "    </tr>\n",
       "  </tbody>\n",
       "</table>\n",
       "</div>"
      ],
      "text/plain": [
       "   Unnamed: 0  type  recOOV           file  \\\n",
       "0           0  MISC     100  Estevan_3.wav   \n",
       "1           1  MISC     100   Marina_1.wav   \n",
       "2           2  MISC     100   Marina_4.wav   \n",
       "3           3  MISC     100   Marina_6.wav   \n",
       "4           4  MISC     100    Natan_1.wav   \n",
       "\n",
       "                                            idx_abre  Unnamed: 5  \n",
       "0                  [4730 76320 131880 180000 212000]         NaN  \n",
       "1                [29450 106430 165400 214060 330190]         NaN  \n",
       "2   [12170 82450 138570 180800 218120 280850 347250]         NaN  \n",
       "3  [25130 57970 125860 199900 239820 277720 33808...         NaN  \n",
       "4                [25670 107110 162700 208770 332250]         NaN  "
      ]
     },
     "execution_count": 3,
     "metadata": {},
     "output_type": "execute_result"
    }
   ],
   "source": [
    "from datasetHandler import Handler\n",
    "\n",
    "dataset = Handler('Dataset_idx.csv')\n",
    "df = dataset.ReadTable()\n",
    "\n",
    "df.head()"
   ]
  },
  {
   "cell_type": "markdown",
   "metadata": {},
   "source": [
    "## Formata as colunas de indexação em formatos de lista "
   ]
  },
  {
   "cell_type": "code",
   "execution_count": 4,
   "metadata": {},
   "outputs": [],
   "source": [
    "KwIndexs = dataset.ReadIndexs()\n",
    "\n",
    "# x = df['idx_abre']\n",
    "# iAbre = {}\n",
    "# for i in range(len(x)):\n",
    "#     p = x[i]\n",
    "#     p = p.replace('[','')\n",
    "#     p = p.replace(']','')\n",
    "    \n",
    "#     p = p.split(' ')\n",
    "# #     print(p)\n",
    "#     if p[0] != '':\n",
    "#         iAbre[i] = list(map(int, p))\n",
    "#     else:\n",
    "#         iAbre[i] = list(map(int,[-1e9])) "
   ]
  },
  {
   "cell_type": "code",
   "execution_count": 5,
   "metadata": {},
   "outputs": [
    {
     "data": {
      "text/plain": [
       "[4730, 76320, 131880, 180000, 212000]"
      ]
     },
     "execution_count": 5,
     "metadata": {},
     "output_type": "execute_result"
    }
   ],
   "source": [
    "KwIndexs['abre'][0]"
   ]
  },
  {
   "cell_type": "code",
   "execution_count": null,
   "metadata": {},
   "outputs": [],
   "source": []
  },
  {
   "cell_type": "markdown",
   "metadata": {},
   "source": [
    "## Definição das constantes\n",
    "\n",
    "Com índices de cada arquivo de audio para cada palavra-chave, temos o centro de cada _frame_ que conterá as respectivas palavras-chave. \n",
    "\n",
    "Então, agora é preciso configurar todos os parâmetros para extração de _feature_ para a entrada. \n",
    "Isso ocorre pois estes parâmetros alterarão os tamanhos de _frames_ que serão agora coletados para cada _keyword_   "
   ]
  },
  {
   "cell_type": "code",
   "execution_count": 6,
   "metadata": {},
   "outputs": [],
   "source": [
    "fs = 8000 # taxa de amostragem dos arquivos de audio\n",
    "\n",
    "n_fft= 512   # tamanho da FFT para extração dos MFCCs\n",
    "hop_length=0 # pulo entre cada frame\n",
    "n_mels= 50   # numero de filtros MEL\n",
    "n_mfcc= 8   # numero de coeficientes MFCC\n",
    "ofs_mfcc=2   # offset dado para não utilizar os primeiros coeficientes MFCC      \n",
    "\n",
    "fmin=100    # frequencia mínima do MFCC\n",
    "fmax=4000   # frequencia máxima do MFCC\n",
    "\n",
    "n_frames_MFCC = 10 # numero de frames MFCC que será usado para o reconhecimento.\n",
    "\n",
    "frame_len = (n_frames_MFCC-1)*n_fft # tamanho do frame recortado para cada entrada\n",
    "frame_lenD2 = int(frame_len/2) # tamanho do frame dividido por 2"
   ]
  },
  {
   "cell_type": "code",
   "execution_count": 7,
   "metadata": {},
   "outputs": [
    {
     "data": {
      "text/plain": [
       "(4608, 2304)"
      ]
     },
     "execution_count": 7,
     "metadata": {},
     "output_type": "execute_result"
    }
   ],
   "source": [
    "frame_len, frame_lenD2"
   ]
  },
  {
   "cell_type": "markdown",
   "metadata": {},
   "source": [
    "## Extração das _Features_ que contém a palavra-chave\n",
    "\n",
    "Agora que todas as constantes necessárias ja foram declaradas, é extraído de cada arquivo de áudio os _frames_ contendo a palavras-chave, conforme indexado por `iAbre[i]`.\n",
    "\n",
    "Após extraído tais _frames_, é realizado o cálculo do MFCC para a extração das _features_ de cada _frame_."
   ]
  },
  {
   "cell_type": "code",
   "execution_count": 11,
   "metadata": {},
   "outputs": [
    {
     "data": {
      "text/plain": [
       "[<matplotlib.lines.Line2D at 0x7f908a10d198>]"
      ]
     },
     "execution_count": 11,
     "metadata": {},
     "output_type": "execute_result"
    },
    {
     "data": {
      "image/png": "[encoded data removed]",
      "text/plain": [
       "<Figure size 432x288 with 1 Axes>"
      ]
     },
     "metadata": {},
     "output_type": "display_data"
    }
   ],
   "source": [
    "wavstr = df['file'][0]  # extrai a string contendo o nome do arquivo de audio\n",
    "[_, data_file] = wavread(wavstr) # Lê todo o arquivo de audio\n",
    "\n",
    "data_file = data_file/32767 # normaliza as amostras do  áudio para o range [-1,1]\n",
    "N = data_file.shape[0]\n",
    "\n",
    "t = np.linspace(0, N/fs, N)\n",
    "plt.plot(t, data_file)"
   ]
  },
  {
   "cell_type": "code",
   "execution_count": 8,
   "metadata": {},
   "outputs": [
    {
     "ename": "NameError",
     "evalue": "name 'iAbre' is not defined",
     "output_type": "error",
     "traceback": [
      "\u001b[0;31m---------------------------------------------------------------------------\u001b[0m",
      "\u001b[0;31mNameError\u001b[0m                                 Traceback (most recent call last)",
      "\u001b[0;32m<ipython-input-8-260827ca395c>\u001b[0m in \u001b[0;36m<module>\u001b[0;34m()\u001b[0m\n\u001b[1;32m     11\u001b[0m \u001b[0;31m#     t = np.linspace(0, N/fs, N)\u001b[0m\u001b[0;34m\u001b[0m\u001b[0;34m\u001b[0m\u001b[0m\n\u001b[1;32m     12\u001b[0m \u001b[0;31m#     plt.plot(t, data_file)\u001b[0m\u001b[0;34m\u001b[0m\u001b[0;34m\u001b[0m\u001b[0m\n\u001b[0;32m---> 13\u001b[0;31m     \u001b[0;32mfor\u001b[0m \u001b[0mj\u001b[0m \u001b[0;32min\u001b[0m \u001b[0mrange\u001b[0m\u001b[0;34m(\u001b[0m\u001b[0mlen\u001b[0m\u001b[0;34m(\u001b[0m\u001b[0miAbre\u001b[0m\u001b[0;34m[\u001b[0m\u001b[0mi\u001b[0m\u001b[0;34m]\u001b[0m\u001b[0;34m)\u001b[0m\u001b[0;34m)\u001b[0m\u001b[0;34m:\u001b[0m \u001b[0;31m# para cada audio, retira os frames kw e as features\u001b[0m\u001b[0;34m\u001b[0m\u001b[0m\n\u001b[0m\u001b[1;32m     14\u001b[0m         \u001b[0;32mif\u001b[0m \u001b[0miAbre\u001b[0m\u001b[0;34m[\u001b[0m\u001b[0mi\u001b[0m\u001b[0;34m]\u001b[0m\u001b[0;34m[\u001b[0m\u001b[0mj\u001b[0m\u001b[0;34m]\u001b[0m \u001b[0;34m<\u001b[0m \u001b[0;36m0\u001b[0m\u001b[0;34m:\u001b[0m\u001b[0;34m\u001b[0m\u001b[0m\n\u001b[1;32m     15\u001b[0m             \u001b[0;32mbreak\u001b[0m\u001b[0;34m\u001b[0m\u001b[0m\n",
      "\u001b[0;31mNameError\u001b[0m: name 'iAbre' is not defined"
     ]
    }
   ],
   "source": [
    "frameMFCC = {}\n",
    "kwFeat = {}\n",
    "for i in range(len(df['file'])):\n",
    "    wavstr = df['file'][i]  # extrai a string contendo o nome do arquivo de audio\n",
    "    [_, data_file] = wavread(wavstr) # Lê todo o arquivo de audio\n",
    "\n",
    "    data_file = data_file/32767 # normaliza as amostras do  áudio para o range [-1,1]\n",
    "    N = data_file.shape[0]      # indica o tamanho do arquivo\n",
    "\n",
    "#     # quando necessário é plotado o áudio do arquivo \n",
    "#     t = np.linspace(0, N/fs, N)\n",
    "#     plt.plot(t, data_file)\n",
    "    for j in range(len(iAbre[i])): # para cada audio, retira os frames kw e as features\n",
    "        if iAbre[i][j] < 0:\n",
    "            break\n",
    "        \n",
    "        frameSample = data_file[iAbre[i][j]-frame_lenD2:iAbre[i][j]+frame_lenD2]\n",
    "        MFCCsample = librosa.feature.mfcc(y=frameSample, sr=fs, fmin=fmin, fmax=fmax, \n",
    "                                             n_mfcc=n_mfcc, n_mels=n_mels, n_fft=n_fft)\n",
    "\n",
    "        frameMFCC[j] = MFCCsample[ofs_mfcc:]\n",
    "    \n",
    "    kwFeat[i] = frameMFCC"
   ]
  },
  {
   "cell_type": "code",
   "execution_count": 7,
   "metadata": {},
   "outputs": [
    {
     "ename": "ParameterError",
     "evalue": "data must be of type numpy.ndarray",
     "output_type": "error",
     "traceback": [
      "\u001b[0;31m---------------------------------------------------------------------------\u001b[0m",
      "\u001b[0;31mParameterError\u001b[0m                            Traceback (most recent call last)",
      "\u001b[0;32m<ipython-input-7-7d961ef5ead2>\u001b[0m in \u001b[0;36m<module>\u001b[0;34m()\u001b[0m\n\u001b[1;32m      2\u001b[0m                                     \u001b[0mfmax\u001b[0m\u001b[0;34m=\u001b[0m\u001b[0mfmax\u001b[0m\u001b[0;34m,\u001b[0m \u001b[0mn_mfcc\u001b[0m\u001b[0;34m=\u001b[0m\u001b[0mn_mfcc\u001b[0m\u001b[0;34m,\u001b[0m \u001b[0mn_mels\u001b[0m\u001b[0;34m=\u001b[0m\u001b[0mn_mels\u001b[0m\u001b[0;34m,\u001b[0m\u001b[0;34m\u001b[0m\u001b[0m\n\u001b[1;32m      3\u001b[0m                                     \u001b[0mn_fft\u001b[0m\u001b[0;34m=\u001b[0m\u001b[0mn_fft\u001b[0m\u001b[0;34m,\u001b[0m \u001b[0mframe_len\u001b[0m\u001b[0;34m=\u001b[0m\u001b[0mframe_len\u001b[0m\u001b[0;34m,\u001b[0m\u001b[0;34m\u001b[0m\u001b[0m\n\u001b[0;32m----> 4\u001b[0;31m                                     frame_lenD2=frame_lenD2)\n\u001b[0m",
      "\u001b[0;32m~/Documents/Natan/Projetos/TCC/GitHub/ExtractFeaturesMFCC/Dataset_idx/datasetHandler.py\u001b[0m in \u001b[0;36mIdxFrameProcess\u001b[0;34m(self, func, rkey, ckey, **kwargs)\u001b[0m\n\u001b[1;32m     94\u001b[0m                         \u001b[0;32mbreak\u001b[0m\u001b[0;34m\u001b[0m\u001b[0m\n\u001b[1;32m     95\u001b[0m \u001b[0;34m\u001b[0m\u001b[0m\n\u001b[0;32m---> 96\u001b[0;31m                     \u001b[0mframeproc\u001b[0m\u001b[0;34m[\u001b[0m\u001b[0mj\u001b[0m\u001b[0;34m]\u001b[0m \u001b[0;34m=\u001b[0m \u001b[0mfunc\u001b[0m\u001b[0;34m(\u001b[0m\u001b[0mdata_file\u001b[0m\u001b[0;34m=\u001b[0m\u001b[0mdata_file\u001b[0m\u001b[0;34m,\u001b[0m \u001b[0mindex\u001b[0m\u001b[0;34m=\u001b[0m\u001b[0mkwkey\u001b[0m\u001b[0;34m[\u001b[0m\u001b[0mk\u001b[0m\u001b[0;34m]\u001b[0m\u001b[0;34m[\u001b[0m\u001b[0mi\u001b[0m\u001b[0;34m]\u001b[0m\u001b[0;34m,\u001b[0m \u001b[0;34m**\u001b[0m\u001b[0mkwargs\u001b[0m\u001b[0;34m)\u001b[0m\u001b[0;34m\u001b[0m\u001b[0m\n\u001b[0m\u001b[1;32m     97\u001b[0m \u001b[0;34m\u001b[0m\u001b[0m\n\u001b[1;32m     98\u001b[0m                 \u001b[0mself\u001b[0m\u001b[0;34m.\u001b[0m\u001b[0mkwFeat\u001b[0m\u001b[0;34m[\u001b[0m\u001b[0mdfkey\u001b[0m\u001b[0;34m]\u001b[0m\u001b[0;34m[\u001b[0m\u001b[0mk\u001b[0m\u001b[0;34m]\u001b[0m \u001b[0;34m=\u001b[0m \u001b[0mframeproc\u001b[0m\u001b[0;34m\u001b[0m\u001b[0m\n",
      "\u001b[0;32m~/anaconda3/lib/python3.6/site-packages/librosa/feature/spectral.py\u001b[0m in \u001b[0;36mmfcc\u001b[0;34m(y, sr, S, n_mfcc, **kwargs)\u001b[0m\n\u001b[1;32m   1375\u001b[0m \u001b[0;34m\u001b[0m\u001b[0m\n\u001b[1;32m   1376\u001b[0m     \u001b[0;32mif\u001b[0m \u001b[0mS\u001b[0m \u001b[0;32mis\u001b[0m \u001b[0;32mNone\u001b[0m\u001b[0;34m:\u001b[0m\u001b[0;34m\u001b[0m\u001b[0m\n\u001b[0;32m-> 1377\u001b[0;31m         \u001b[0mS\u001b[0m \u001b[0;34m=\u001b[0m \u001b[0mpower_to_db\u001b[0m\u001b[0;34m(\u001b[0m\u001b[0mmelspectrogram\u001b[0m\u001b[0;34m(\u001b[0m\u001b[0my\u001b[0m\u001b[0;34m=\u001b[0m\u001b[0my\u001b[0m\u001b[0;34m,\u001b[0m \u001b[0msr\u001b[0m\u001b[0;34m=\u001b[0m\u001b[0msr\u001b[0m\u001b[0;34m,\u001b[0m \u001b[0;34m**\u001b[0m\u001b[0mkwargs\u001b[0m\u001b[0;34m)\u001b[0m\u001b[0;34m)\u001b[0m\u001b[0;34m\u001b[0m\u001b[0m\n\u001b[0m\u001b[1;32m   1378\u001b[0m \u001b[0;34m\u001b[0m\u001b[0m\n\u001b[1;32m   1379\u001b[0m     \u001b[0;32mreturn\u001b[0m \u001b[0mnp\u001b[0m\u001b[0;34m.\u001b[0m\u001b[0mdot\u001b[0m\u001b[0;34m(\u001b[0m\u001b[0mfilters\u001b[0m\u001b[0;34m.\u001b[0m\u001b[0mdct\u001b[0m\u001b[0;34m(\u001b[0m\u001b[0mn_mfcc\u001b[0m\u001b[0;34m,\u001b[0m \u001b[0mS\u001b[0m\u001b[0;34m.\u001b[0m\u001b[0mshape\u001b[0m\u001b[0;34m[\u001b[0m\u001b[0;36m0\u001b[0m\u001b[0;34m]\u001b[0m\u001b[0;34m)\u001b[0m\u001b[0;34m,\u001b[0m \u001b[0mS\u001b[0m\u001b[0;34m)\u001b[0m\u001b[0;34m\u001b[0m\u001b[0m\n",
      "\u001b[0;32m~/anaconda3/lib/python3.6/site-packages/librosa/feature/spectral.py\u001b[0m in \u001b[0;36mmelspectrogram\u001b[0;34m(y, sr, S, n_fft, hop_length, power, **kwargs)\u001b[0m\n\u001b[1;32m   1464\u001b[0m \u001b[0;34m\u001b[0m\u001b[0m\n\u001b[1;32m   1465\u001b[0m     S, n_fft = _spectrogram(y=y, S=S, n_fft=n_fft, hop_length=hop_length,\n\u001b[0;32m-> 1466\u001b[0;31m                             power=power)\n\u001b[0m\u001b[1;32m   1467\u001b[0m \u001b[0;34m\u001b[0m\u001b[0m\n\u001b[1;32m   1468\u001b[0m     \u001b[0;31m# Build a Mel filter\u001b[0m\u001b[0;34m\u001b[0m\u001b[0;34m\u001b[0m\u001b[0m\n",
      "\u001b[0;32m~/anaconda3/lib/python3.6/site-packages/librosa/core/spectrum.py\u001b[0m in \u001b[0;36m_spectrogram\u001b[0;34m(y, S, n_fft, hop_length, power)\u001b[0m\n\u001b[1;32m   1323\u001b[0m     \u001b[0;32melse\u001b[0m\u001b[0;34m:\u001b[0m\u001b[0;34m\u001b[0m\u001b[0m\n\u001b[1;32m   1324\u001b[0m         \u001b[0;31m# Otherwise, compute a magnitude spectrogram from input\u001b[0m\u001b[0;34m\u001b[0m\u001b[0;34m\u001b[0m\u001b[0m\n\u001b[0;32m-> 1325\u001b[0;31m         \u001b[0mS\u001b[0m \u001b[0;34m=\u001b[0m \u001b[0mnp\u001b[0m\u001b[0;34m.\u001b[0m\u001b[0mabs\u001b[0m\u001b[0;34m(\u001b[0m\u001b[0mstft\u001b[0m\u001b[0;34m(\u001b[0m\u001b[0my\u001b[0m\u001b[0;34m,\u001b[0m \u001b[0mn_fft\u001b[0m\u001b[0;34m=\u001b[0m\u001b[0mn_fft\u001b[0m\u001b[0;34m,\u001b[0m \u001b[0mhop_length\u001b[0m\u001b[0;34m=\u001b[0m\u001b[0mhop_length\u001b[0m\u001b[0;34m)\u001b[0m\u001b[0;34m)\u001b[0m\u001b[0;34m**\u001b[0m\u001b[0mpower\u001b[0m\u001b[0;34m\u001b[0m\u001b[0m\n\u001b[0m\u001b[1;32m   1326\u001b[0m \u001b[0;34m\u001b[0m\u001b[0m\n\u001b[1;32m   1327\u001b[0m     \u001b[0;32mreturn\u001b[0m \u001b[0mS\u001b[0m\u001b[0;34m,\u001b[0m \u001b[0mn_fft\u001b[0m\u001b[0;34m\u001b[0m\u001b[0m\n",
      "\u001b[0;32m~/anaconda3/lib/python3.6/site-packages/librosa/core/spectrum.py\u001b[0m in \u001b[0;36mstft\u001b[0;34m(y, n_fft, hop_length, win_length, window, center, dtype, pad_mode)\u001b[0m\n\u001b[1;32m    157\u001b[0m \u001b[0;34m\u001b[0m\u001b[0m\n\u001b[1;32m    158\u001b[0m     \u001b[0;31m# Check audio is valid\u001b[0m\u001b[0;34m\u001b[0m\u001b[0;34m\u001b[0m\u001b[0m\n\u001b[0;32m--> 159\u001b[0;31m     \u001b[0mutil\u001b[0m\u001b[0;34m.\u001b[0m\u001b[0mvalid_audio\u001b[0m\u001b[0;34m(\u001b[0m\u001b[0my\u001b[0m\u001b[0;34m)\u001b[0m\u001b[0;34m\u001b[0m\u001b[0m\n\u001b[0m\u001b[1;32m    160\u001b[0m \u001b[0;34m\u001b[0m\u001b[0m\n\u001b[1;32m    161\u001b[0m     \u001b[0;31m# Pad the time series so that frames are centered\u001b[0m\u001b[0;34m\u001b[0m\u001b[0;34m\u001b[0m\u001b[0m\n",
      "\u001b[0;32m~/anaconda3/lib/python3.6/site-packages/librosa/util/utils.py\u001b[0m in \u001b[0;36mvalid_audio\u001b[0;34m(y, mono)\u001b[0m\n\u001b[1;32m    154\u001b[0m \u001b[0;34m\u001b[0m\u001b[0m\n\u001b[1;32m    155\u001b[0m     \u001b[0;32mif\u001b[0m \u001b[0;32mnot\u001b[0m \u001b[0misinstance\u001b[0m\u001b[0;34m(\u001b[0m\u001b[0my\u001b[0m\u001b[0;34m,\u001b[0m \u001b[0mnp\u001b[0m\u001b[0;34m.\u001b[0m\u001b[0mndarray\u001b[0m\u001b[0;34m)\u001b[0m\u001b[0;34m:\u001b[0m\u001b[0;34m\u001b[0m\u001b[0m\n\u001b[0;32m--> 156\u001b[0;31m         \u001b[0;32mraise\u001b[0m \u001b[0mParameterError\u001b[0m\u001b[0;34m(\u001b[0m\u001b[0;34m'data must be of type numpy.ndarray'\u001b[0m\u001b[0;34m)\u001b[0m\u001b[0;34m\u001b[0m\u001b[0m\n\u001b[0m\u001b[1;32m    157\u001b[0m \u001b[0;34m\u001b[0m\u001b[0m\n\u001b[1;32m    158\u001b[0m     \u001b[0;32mif\u001b[0m \u001b[0;32mnot\u001b[0m \u001b[0mnp\u001b[0m\u001b[0;34m.\u001b[0m\u001b[0missubdtype\u001b[0m\u001b[0;34m(\u001b[0m\u001b[0my\u001b[0m\u001b[0;34m.\u001b[0m\u001b[0mdtype\u001b[0m\u001b[0;34m,\u001b[0m \u001b[0mnp\u001b[0m\u001b[0;34m.\u001b[0m\u001b[0mfloating\u001b[0m\u001b[0;34m)\u001b[0m\u001b[0;34m:\u001b[0m\u001b[0;34m\u001b[0m\u001b[0m\n",
      "\u001b[0;31mParameterError\u001b[0m: data must be of type numpy.ndarray"
     ]
    }
   ],
   "source": [
    "kwFeat = dataset.IdxFrameProcess(func= mfcc, sr=fs, fmin=fmin, \n",
    "                                    fmax=fmax, n_mfcc=n_mfcc, n_mels=n_mels,\n",
    "                                    n_fft=n_fft, frame_len=frame_len, \n",
    "                                    frame_lenD2=frame_lenD2)"
   ]
  },
  {
   "cell_type": "code",
   "execution_count": 9,
   "metadata": {},
   "outputs": [],
   "source": [
    "pp = {}\n",
    "pp['daaa'] = 10\n"
   ]
  },
  {
   "cell_type": "code",
   "execution_count": 10,
   "metadata": {},
   "outputs": [
    {
     "data": {
      "text/plain": [
       "dict_keys(['daaa'])"
      ]
     },
     "execution_count": 10,
     "metadata": {},
     "output_type": "execute_result"
    }
   ],
   "source": [
    "pp.keys()"
   ]
  },
  {
   "cell_type": "code",
   "execution_count": 29,
   "metadata": {},
   "outputs": [
    {
     "name": "stdout",
     "output_type": "stream",
     "text": [
      "The value of your_name is Casey\n",
      "Sammy\n"
     ]
    }
   ],
   "source": [
    "def pt(**kwargs):\n",
    "    for key, value in kwargs.items():\n",
    "        print(\"The value of {} is {}\".format(key, value))\n",
    "#     del kwargs['my_name']\n",
    "#     print(kwargs['my_name'])\n",
    "    print(my_name)\n",
    "    \n",
    "pt(my_name=\"Sammy\", your_name=\"Casey\")"
   ]
  },
  {
   "cell_type": "code",
   "execution_count": 59,
   "metadata": {},
   "outputs": [
    {
     "name": "stdout",
     "output_type": "stream",
     "text": [
      "number of keyword inputs: 106\n",
      "number of keyword test inputs: 16\n"
     ]
    },
    {
     "data": {
      "image/png": "[encoded data removed]",
      "text/plain": [
       "<Figure size 432x288 with 1 Axes>"
      ]
     },
     "metadata": {},
     "output_type": "display_data"
    }
   ],
   "source": [
    "lenKW_1 = 0\n",
    "for i in range(len(df['file'])):\n",
    "    if df['file'][i].find('Vitor') == -1:\n",
    "        for j in range(len(iAbre[i])):\n",
    "            if iAbre[i][j] < 0:\n",
    "                break\n",
    "            \n",
    "            lenKW_1=lenKW_1+1\n",
    "\n",
    "lenKW_1_test = 0\n",
    "for i in range(len(df['file'])):\n",
    "    if df['file'][i].find('Vitor') != -1:\n",
    "        for j in range(len(iAbre[i])):\n",
    "            if iAbre[i][j] < 0:\n",
    "                break\n",
    "            \n",
    "            lenKW_1_test=lenKW_1_test+1\n",
    "            \n",
    "print('number of keyword inputs:',lenKW_1)\n",
    "print('number of keyword test inputs:',lenKW_1_test)\n",
    "imgplot = plt.imshow(kwFeat[0][7])"
   ]
  },
  {
   "cell_type": "code",
   "execution_count": 42,
   "metadata": {},
   "outputs": [
    {
     "data": {
      "text/plain": [
       "[100]"
      ]
     },
     "execution_count": 42,
     "metadata": {},
     "output_type": "execute_result"
    }
   ],
   "source": [
    "list(map(int,['100']))"
   ]
  },
  {
   "cell_type": "markdown",
   "metadata": {},
   "source": [
    "## Extração dos indices e das _Features_ _Out of Vocabulary_\n",
    "\n",
    "Para treinar a rede, é necessário utilizar exemplos do que não é as palavras-chave, chamadas de _Out Of Vocabulary Word_ (OOV _words_).\n",
    "Então, é indexado aleatoriamente trechos dos áudios contendo palavras OOV, para posteriormente a extração das _features_."
   ]
  },
  {
   "cell_type": "code",
   "execution_count": 60,
   "metadata": {},
   "outputs": [],
   "source": [
    "# OOV_lenght = 100 # gera OOV_length OutOfVoc frames por audio\n",
    "OOV_lenght = list(map(int,df['recOOV'])) # gera OOV_length OutOfVoc frames por audio\n",
    "iOOV = {}\n",
    "# iOOVk = np.zeros(OOV_lenght)\n",
    "\n",
    "for i in range(len(df['file'])):\n",
    "    wavstr = df['file'][i]  # extrai a string contendo o nome do arquivo de audio\n",
    "    [_, data_file] = wavread(wavstr) # Lê todo o arquivo de audio\n",
    "\n",
    "    data_file = data_file/32767 # normaliza as amostras do  áudio para o range [-1,1]\n",
    "    N = data_file.shape[0]      # indica o tamanho do arquivo\n",
    "#     print(N)\n",
    "    \n",
    "    iOOVk = np.zeros(OOV_lenght[i])\n",
    "\n",
    "    for k in range(OOV_lenght[i]):\n",
    "        # tenta adquirir indices que indicam frames com Out Of Voc words\n",
    "        # de forma aleatoria\n",
    "        goodId = False\n",
    "        while goodId == False:\n",
    "            idx = np.random.randint(N-frame_len)+frame_lenD2 # gera numero aleatorio\n",
    "            goodId = True\n",
    "            for j in range(len(iAbre[i])): # analisa o indice criado com os indices das kw\n",
    "                if abs(idx-iAbre[i][j]) < frame_len:\n",
    "                    goodId = False\n",
    "        \n",
    "        iOOVk[k] = idx\n",
    "            \n",
    "    iOOV[i] = iOOVk.astype(int)"
   ]
  },
  {
   "cell_type": "code",
   "execution_count": 44,
   "metadata": {},
   "outputs": [
    {
     "data": {
      "text/plain": [
       "array([182969,  54956,  87677, 237408, 241084, 203156, 270651, 289215,\n",
       "       234721, 349166, 198761, 258948, 207012, 197135, 257477, 303062,\n",
       "        24073, 138193,  88347, 390978,  83784, 118796, 312600,  58795,\n",
       "       374266,  66938, 280251, 228914, 445843, 156796, 112749, 159258,\n",
       "       306972, 306596, 315801, 124472,  82249, 123693, 150818,  37428,\n",
       "       434060, 219351, 150011,  87422, 114189, 337273,  87186,   5113,\n",
       "        85571, 417358, 231166, 139757,  15519, 262055, 397586,  84804,\n",
       "       352497, 415601, 394025,  80407, 298623, 346022,  73813, 273323,\n",
       "       283935, 409339, 425418, 350269, 308855, 182264, 353281, 415252,\n",
       "       136068, 389086, 285802,  45277, 405550, 174870, 171476,  22345,\n",
       "       239531, 382316, 177709, 233517, 136860, 418399,  67094, 432825,\n",
       "       247763, 195742,  20410, 120006, 131282, 443084, 314181, 149781,\n",
       "       229293, 100097, 289926, 115191])"
      ]
     },
     "execution_count": 44,
     "metadata": {},
     "output_type": "execute_result"
    }
   ],
   "source": [
    "iOOV[1]"
   ]
  },
  {
   "cell_type": "markdown",
   "metadata": {},
   "source": [
    "### Gera arquivo de audio contendo os trechos OOV para analise"
   ]
  },
  {
   "cell_type": "code",
   "execution_count": 61,
   "metadata": {},
   "outputs": [],
   "source": [
    "i=2\n",
    "wavstr = df['file'][i]  # extrai a string contendo o nome do arquivo de audio\n",
    "[_, data_file] = wavread(wavstr) # Lê todo o arquivo de audio\n",
    "\n",
    "data_file = data_file/32767 # normaliza as amostras do  áudio para o range [-1,1]\n",
    "N = data_file.shape[0]      # indica o tamanho do arquivo\n",
    "\n",
    "#     # quando necessário é plotado o áudio do arquivo \n",
    "#     t = np.linspace(0, N/fs, N)\n",
    "#     plt.plot(t, data_file)\n",
    "\n",
    "frameSample = np.zeros((frame_len,len(iOOV[i])))\n",
    "for j in range(len(iOOV[i])): # para cada audio, retira os frames kw e as features\n",
    "    frameSample[:,j] = data_file[iOOV[i][j]-frame_lenD2:iOOV[i][j]+frame_lenD2]\n",
    "\n",
    "frameSample = frameSample.T.reshape(-1)\n",
    "wavwrite('framesOOV.wav', fs, frameSample)"
   ]
  },
  {
   "cell_type": "markdown",
   "metadata": {},
   "source": [
    "### Extração das Features OOV"
   ]
  },
  {
   "cell_type": "code",
   "execution_count": 62,
   "metadata": {},
   "outputs": [],
   "source": [
    "frameMFCC = {}\n",
    "oovFeat = {}\n",
    "for i in range(len(df['file'])):\n",
    "    wavstr = df['file'][i]  # extrai a string contendo o nome do arquivo de audio\n",
    "    [_, data_file] = wavread(wavstr) # Lê todo o arquivo de audio\n",
    "\n",
    "    data_file = data_file/32767 # normaliza as amostras do  áudio para o range [-1,1]\n",
    "    N = data_file.shape[0]      # indica o tamanho do arquivo\n",
    "\n",
    "#     # quando necessário é plotado o áudio do arquivo \n",
    "#     t = np.linspace(0, N/fs, N)\n",
    "#     plt.plot(t, data_file)\n",
    "    for j in range(len(iOOV[i])): # para cada audio, retira os frames kw e as features\n",
    "        frameSample = data_file[iOOV[i][j]-frame_lenD2:iOOV[i][j]+frame_lenD2]\n",
    "        \n",
    "        MFCCsample = librosa.feature.mfcc(y=frameSample, sr=fs, fmin=fmin, fmax=fmax, \n",
    "                                             n_mfcc=n_mfcc, n_mels=n_mels, n_fft=n_fft)\n",
    "        \n",
    "        frameMFCC[j] = MFCCsample[ofs_mfcc:]\n",
    "    \n",
    "    oovFeat[i] = frameMFCC"
   ]
  },
  {
   "cell_type": "code",
   "execution_count": 63,
   "metadata": {},
   "outputs": [
    {
     "name": "stdout",
     "output_type": "stream",
     "text": [
      "number of out-of-voc inputs: 2140\n",
      "number of out-of-voc test inputs: 320\n"
     ]
    },
    {
     "data": {
      "image/png": "[encoded data removed]",
      "text/plain": [
       "<Figure size 432x288 with 1 Axes>"
      ]
     },
     "metadata": {},
     "output_type": "display_data"
    }
   ],
   "source": [
    "lenOOV = 0\n",
    "for i in range(len(df['file'])):\n",
    "    if df['file'][i].find('Vitor') == -1:\n",
    "        for j in range(len(iOOV[i])):\n",
    "            lenOOV=lenOOV+1\n",
    "\n",
    "lenOOVtest = 0\n",
    "for i in range(len(df['file'])):\n",
    "    if df['file'][i].find('Vitor') != -1:\n",
    "        for j in range(len(iOOV[i])):\n",
    "            lenOOVtest=lenOOVtest+1\n",
    "            \n",
    "print('number of out-of-voc inputs:', lenOOV)\n",
    "print('number of out-of-voc test inputs:', lenOOVtest)\n",
    "\n",
    "imgplot = plt.imshow(oovFeat[0][99])"
   ]
  },
  {
   "cell_type": "markdown",
   "metadata": {},
   "source": [
    "# Preparando o _Data Array_\n",
    "\n",
    "Neste ponto é gerado _arrays_ para dados de treinamento e de teste.\n",
    "\n",
    "Para isso, é atribuido _arrays_ de elementos OOV e elementos KW, concatenados, embaralhados, e separados em dados de treinamento e de teste.   "
   ]
  },
  {
   "cell_type": "code",
   "execution_count": 48,
   "metadata": {},
   "outputs": [],
   "source": [
    "def splitData(x, y, p=0.2): # funcao para embaralhar e separar os dados em treinamento e teste\n",
    "    shapeInX = x.shape\n",
    "    shapeInY = y.shape\n",
    "    datax = x.reshape(shapeInX[0],-1)\n",
    "    \n",
    "    data = np.concatenate((datax, y), axis=1)\n",
    "    # random.randint(0, int(x.shape[0]*(1-p)))\n",
    "    xScrambled = np.random.permutation(data)\n",
    "    nLines = xScrambled.shape[0]\n",
    "\n",
    "    data_train = xScrambled[0:int(round(nLines*(1-p))), :]\n",
    "    data_test = xScrambled[int(round(nLines*(1-p))):, :]\n",
    "#     print(nLines)\n",
    "#     print(data_train.shape)\n",
    "    \n",
    "    shape_train = np.asarray(shapeInX)\n",
    "    shape_train[0] = data_train.shape[0]\n",
    "    x_train = data_train[:,:data_train.shape[1]-shapeInY[1]].reshape(tuple(shape_train))\n",
    "    y_train = data_train[:,[data_train.shape[1]-shapeInY[1]]]\n",
    "    \n",
    "    \n",
    "    shape_test = np.asarray(shapeInX)\n",
    "    shape_test[0] = data_test.shape[0]\n",
    "    x_test = data_test[:,:data_test.shape[1]-shapeInY[1]].reshape(tuple(shape_test))\n",
    "    y_test = data_test[:,data_test.shape[1]-shapeInY[1]:]\n",
    "    \n",
    "    \n",
    "    return (x_train, y_train), (x_test, y_test)"
   ]
  },
  {
   "cell_type": "code",
   "execution_count": 49,
   "metadata": {},
   "outputs": [
    {
     "name": "stdout",
     "output_type": "stream",
     "text": [
      "Keyword Abre Array Shape: (106, 6, 10, 1)\n",
      "Out Of Voc Array Shape: (2140, 6, 10, 1)\n",
      "\n",
      "Concatenate Array Shape: (2246, 6, 10, 1)\n",
      "\n",
      "Train data shape: (2246, 6, 10, 1)\n",
      "Test data shape: (336, 6, 10, 1)\n",
      "\n",
      "counting of Truth keywords in Test Data: 16\n",
      "counting of OOV words in Test Data: 320\n"
     ]
    }
   ],
   "source": [
    "# gera os arrays OOV e KW, com suas respectivas labels\n",
    "x_OOV = np.zeros((lenOOV, oovFeat[0][0].shape[0], oovFeat[0][0].shape[1],1))\n",
    "x_KW_1 = np.zeros((lenKW_1, oovFeat[0][0].shape[0], oovFeat[0][0].shape[1],1))\n",
    "\n",
    "x_OOV_test = np.zeros((lenOOVtest, oovFeat[0][0].shape[0], oovFeat[0][0].shape[1],1))\n",
    "x_KW_1_test = np.zeros((lenKW_1_test, oovFeat[0][0].shape[0], oovFeat[0][0].shape[1],1))\n",
    "\n",
    "# y_OOV = np.concatenate((np.ones((lenOOV, 1)), np.zeros((lenOOV,  1))), axis=1)\n",
    "# y_KW_1 = np.concatenate((np.zeros((lenKW_1,  1)), np.ones((lenKW_1, 1))), axis=1)\n",
    "y_OOV = np.zeros((lenOOV,  1))\n",
    "y_KW_1 = np.ones((lenKW_1, 1))\n",
    "\n",
    "y_OOV_test = np.zeros((lenOOVtest,  1))\n",
    "y_KW_1_test = np.ones((lenKW_1_test, 1))\n",
    "\n",
    "k=0\n",
    "m=0\n",
    "for i in range(len(df['file'])):\n",
    "    if df['file'][i].find('Vitor') == -1:\n",
    "        for j in range(len(iOOV[i])): \n",
    "            x_OOV[k,:,:,0] = oovFeat[i][j]\n",
    "            k=k+1\n",
    "    else:\n",
    "        for j in range(len(iOOV[i])): \n",
    "            x_OOV_test[m,:,:,0] = oovFeat[i][j]\n",
    "            m=m+1\n",
    "        \n",
    "\n",
    "k=0\n",
    "m=0\n",
    "for i in range(len(df['file'])):\n",
    "    if df['file'][i].find('Vitor') == -1:\n",
    "        for j in range(len(iAbre[i])):\n",
    "            if iAbre[i][j] < 0:\n",
    "                break\n",
    "            x_KW_1[k,:,:,0] = kwFeat[i][j]\n",
    "            k=k+1\n",
    "    else:\n",
    "        for j in range(len(iAbre[i])): \n",
    "            if iAbre[i][j] < 0:\n",
    "                break\n",
    "                \n",
    "            x_KW_1_test[m,:,:,0] = kwFeat[i][j]\n",
    "            m=m+1\n",
    "\n",
    "print('Keyword Abre Array Shape:', x_KW_1.shape)\n",
    "print('Out Of Voc Array Shape:', x_OOV.shape)\n",
    "        \n",
    "x = np.concatenate((x_OOV, x_KW_1), axis=0)\n",
    "y = np.concatenate((y_OOV, y_KW_1), axis=0)\n",
    "\n",
    "x_t = np.concatenate((x_OOV_test, x_KW_1_test), axis=0)\n",
    "y_t = np.concatenate((y_OOV_test, y_KW_1_test), axis=0)\n",
    "\n",
    "print('\\nConcatenate Array Shape:', x.shape)\n",
    "\n",
    "# print(x.shape)\n",
    "# print(x_OOV.shape)\n",
    "# print(x_KW_1.shape)\n",
    "# print(y.shape)\n",
    "# print(y_OOV.shape)\n",
    "# print(y_KW_1.shape)\n",
    "\n",
    "# (x_train, y_train), (x_test, y_test) = splitData(x, y, p=0.0)\n",
    "(x_train, y_train), _ = splitData(x, y, p=0.0)\n",
    "(x_test, y_test), _   = splitData(x_t, y_t, p=0.0)\n",
    "\n",
    "print('\\nTrain data shape:', x_train.shape)\n",
    "print('Test data shape:', x_test.shape)\n",
    "\n",
    "# print(x_train.shape)\n",
    "# print(y_train.shape)\n",
    "# print(x_test.shape)\n",
    "# print(y_test.shape)\n",
    "\n",
    "print('\\ncounting of Truth keywords in Test Data:', list(y_test[:]).count(1))\n",
    "print('counting of OOV words in Test Data:', list(y_test[:]).count(0))"
   ]
  },
  {
   "cell_type": "markdown",
   "metadata": {},
   "source": [
    "# Test with Convolutional Layers"
   ]
  },
  {
   "cell_type": "code",
   "execution_count": 77,
   "metadata": {},
   "outputs": [
    {
     "name": "stdout",
     "output_type": "stream",
     "text": [
      "(6, 10, 1)\n",
      "Epoch 1/50\n",
      "2246/2246 [==============================] - 1s 440us/step - loss: 7.9394 - acc: 0.1478\n",
      "Epoch 2/50\n",
      "2246/2246 [==============================] - 0s 61us/step - loss: 4.7573 - acc: 0.2551\n",
      "Epoch 3/50\n",
      "2246/2246 [==============================] - 0s 59us/step - loss: 2.3255 - acc: 0.4871\n",
      "Epoch 4/50\n",
      "2246/2246 [==============================] - 0s 64us/step - loss: 1.0893 - acc: 0.6683\n",
      "Epoch 5/50\n",
      "2246/2246 [==============================] - 0s 67us/step - loss: 0.6205 - acc: 0.7801\n",
      "Epoch 6/50\n",
      "2246/2246 [==============================] - 0s 64us/step - loss: 0.4099 - acc: 0.8433\n",
      "Epoch 7/50\n",
      "2246/2246 [==============================] - 0s 57us/step - loss: 0.2994 - acc: 0.8936\n",
      "Epoch 8/50\n",
      "2246/2246 [==============================] - 0s 63us/step - loss: 0.2420 - acc: 0.9096\n",
      "Epoch 9/50\n",
      "2246/2246 [==============================] - 0s 60us/step - loss: 0.2039 - acc: 0.9185\n",
      "Epoch 10/50\n",
      "2246/2246 [==============================] - 0s 60us/step - loss: 0.1706 - acc: 0.9372\n",
      "Epoch 11/50\n",
      "2246/2246 [==============================] - 0s 64us/step - loss: 0.1443 - acc: 0.9564\n",
      "Epoch 12/50\n",
      "2246/2246 [==============================] - 0s 62us/step - loss: 0.1255 - acc: 0.9653\n",
      "Epoch 13/50\n",
      "2246/2246 [==============================] - 0s 60us/step - loss: 0.1100 - acc: 0.9684\n",
      "Epoch 14/50\n",
      "2246/2246 [==============================] - 0s 61us/step - loss: 0.0957 - acc: 0.9711\n",
      "Epoch 15/50\n",
      "2246/2246 [==============================] - 0s 63us/step - loss: 0.0849 - acc: 0.9751\n",
      "Epoch 16/50\n",
      "2246/2246 [==============================] - 0s 64us/step - loss: 0.0770 - acc: 0.9786\n",
      "Epoch 17/50\n",
      "2246/2246 [==============================] - 0s 62us/step - loss: 0.0713 - acc: 0.9786\n",
      "Epoch 18/50\n",
      "2246/2246 [==============================] - 0s 57us/step - loss: 0.0669 - acc: 0.9853\n",
      "Epoch 19/50\n",
      "2246/2246 [==============================] - 0s 55us/step - loss: 0.0631 - acc: 0.9862\n",
      "Epoch 20/50\n",
      "2246/2246 [==============================] - 0s 58us/step - loss: 0.0600 - acc: 0.9915\n",
      "Epoch 21/50\n",
      "2246/2246 [==============================] - 0s 57us/step - loss: 0.0574 - acc: 0.9924\n",
      "Epoch 22/50\n",
      "2246/2246 [==============================] - 0s 64us/step - loss: 0.0551 - acc: 0.9929\n",
      "Epoch 23/50\n",
      "2246/2246 [==============================] - 0s 64us/step - loss: 0.0529 - acc: 0.9938\n",
      "Epoch 24/50\n",
      "2246/2246 [==============================] - 0s 68us/step - loss: 0.0511 - acc: 0.9938\n",
      "Epoch 25/50\n",
      "2246/2246 [==============================] - 0s 71us/step - loss: 0.0496 - acc: 0.9938\n",
      "Epoch 26/50\n",
      "2246/2246 [==============================] - 0s 60us/step - loss: 0.0481 - acc: 0.9938\n",
      "Epoch 27/50\n",
      "2246/2246 [==============================] - 0s 61us/step - loss: 0.0468 - acc: 0.9938\n",
      "Epoch 28/50\n",
      "2246/2246 [==============================] - 0s 62us/step - loss: 0.0455 - acc: 0.9938\n",
      "Epoch 29/50\n",
      "2246/2246 [==============================] - 0s 65us/step - loss: 0.0444 - acc: 0.9938\n",
      "Epoch 30/50\n",
      "2246/2246 [==============================] - 0s 70us/step - loss: 0.0433 - acc: 0.9938\n",
      "Epoch 31/50\n",
      "2246/2246 [==============================] - 0s 52us/step - loss: 0.0422 - acc: 0.9938\n",
      "Epoch 32/50\n",
      "2246/2246 [==============================] - 0s 56us/step - loss: 0.0412 - acc: 0.9938\n",
      "Epoch 33/50\n",
      "2246/2246 [==============================] - 0s 59us/step - loss: 0.0403 - acc: 0.9938\n",
      "Epoch 34/50\n",
      "2246/2246 [==============================] - 0s 60us/step - loss: 0.0394 - acc: 0.9938\n",
      "Epoch 35/50\n",
      "2246/2246 [==============================] - 0s 61us/step - loss: 0.0385 - acc: 0.9938\n",
      "Epoch 36/50\n",
      "2246/2246 [==============================] - 0s 60us/step - loss: 0.0378 - acc: 0.9938\n",
      "Epoch 37/50\n",
      "2246/2246 [==============================] - 0s 65us/step - loss: 0.0370 - acc: 0.9938\n",
      "Epoch 38/50\n",
      "2246/2246 [==============================] - 0s 58us/step - loss: 0.0362 - acc: 0.9938\n",
      "Epoch 39/50\n",
      "2246/2246 [==============================] - 0s 61us/step - loss: 0.0355 - acc: 0.9938\n",
      "Epoch 40/50\n",
      "2246/2246 [==============================] - 0s 51us/step - loss: 0.0348 - acc: 0.9938\n",
      "Epoch 41/50\n",
      "2246/2246 [==============================] - 0s 53us/step - loss: 0.0342 - acc: 0.9938\n",
      "Epoch 42/50\n",
      "2246/2246 [==============================] - 0s 59us/step - loss: 0.0335 - acc: 0.9938\n",
      "Epoch 43/50\n",
      "2246/2246 [==============================] - 0s 63us/step - loss: 0.0329 - acc: 0.9982\n",
      "Epoch 44/50\n",
      "2246/2246 [==============================] - 0s 59us/step - loss: 0.0323 - acc: 1.0000\n",
      "Epoch 45/50\n",
      "2246/2246 [==============================] - 0s 68us/step - loss: 0.0317 - acc: 1.0000\n",
      "Epoch 46/50\n",
      "2246/2246 [==============================] - 0s 64us/step - loss: 0.0312 - acc: 1.0000\n",
      "Epoch 47/50\n",
      "2246/2246 [==============================] - 0s 58us/step - loss: 0.0307 - acc: 1.0000\n",
      "Epoch 48/50\n",
      "2246/2246 [==============================] - 0s 60us/step - loss: 0.0302 - acc: 1.0000\n",
      "Epoch 49/50\n",
      "2246/2246 [==============================] - 0s 60us/step - loss: 0.0297 - acc: 1.0000\n",
      "Epoch 50/50\n",
      "2246/2246 [==============================] - 0s 58us/step - loss: 0.0293 - acc: 1.0000\n",
      "336/336 [==============================] - 0s 985us/step\n",
      "Test model with data_test: 100.0 %\n"
     ]
    }
   ],
   "source": [
    "from keras.layers import Conv2D, MaxPooling2D, Input, Dense, Flatten\n",
    "\n",
    "input_shape = x_train.shape[1:]\n",
    "num_classes = 2\n",
    "\n",
    "# y_train = keras.utils.to_categorical(y_train, num_classes)\n",
    "# y_test = keras.utils.to_categorical(y_test, num_classes)\n",
    "\n",
    "print(input_shape)\n",
    "model = Sequential()\n",
    "model.add(Conv2D(3, kernel_size=(2, 3), strides=(1, 1),\n",
    "                 activation='relu',\n",
    "                 input_shape=input_shape))\n",
    "model.add(Conv2D(2, kernel_size=(2, 3), strides=(1, 1),\n",
    "                 activation='relu',\n",
    "                 input_shape=input_shape))\n",
    "model.add(MaxPooling2D(pool_size=(2, 2), strides=(2, 2)))\n",
    "# model.add(Conv2D(4, (2, 2), activation='relu'))\n",
    "# model.add(MaxPooling2D(pool_size=(2, 2)))\n",
    "model.add(Flatten())\n",
    "# model.add(Dense(10, activation='relu'))\n",
    "model.add(Dense(num_classes, activation='softmax'))\n",
    "\n",
    "model.compile(loss='sparse_categorical_crossentropy',\n",
    "              optimizer='adam',\n",
    "              metrics=['accuracy'])\n",
    "\n",
    "model.fit(x_train, y_train,\n",
    "#           validation_split=0.1,\n",
    "          epochs=50,\n",
    "          batch_size=128)\n",
    "\n",
    "score = model.evaluate(x_test, y_test, batch_size=100)\n",
    "print('Test model with data_test:', 100*score[1],'%')"
   ]
  },
  {
   "cell_type": "code",
   "execution_count": 51,
   "metadata": {},
   "outputs": [
    {
     "data": {
      "text/plain": [
       "[0.008375595634182295, 1.0]"
      ]
     },
     "execution_count": 51,
     "metadata": {},
     "output_type": "execute_result"
    }
   ],
   "source": [
    "score"
   ]
  },
  {
   "cell_type": "code",
   "execution_count": 52,
   "metadata": {},
   "outputs": [
    {
     "ename": "AttributeError",
     "evalue": "'dict' object has no attribute 'shape'",
     "output_type": "error",
     "traceback": [
      "\u001b[0;31m---------------------------------------------------------------------------\u001b[0m",
      "\u001b[0;31mAttributeError\u001b[0m                            Traceback (most recent call last)",
      "\u001b[0;32m<ipython-input-52-c1631de0c2f7>\u001b[0m in \u001b[0;36m<module>\u001b[0;34m()\u001b[0m\n\u001b[0;32m----> 1\u001b[0;31m \u001b[0mframeMFCC\u001b[0m\u001b[0;34m.\u001b[0m\u001b[0mshape\u001b[0m\u001b[0;34m\u001b[0m\u001b[0m\n\u001b[0m",
      "\u001b[0;31mAttributeError\u001b[0m: 'dict' object has no attribute 'shape'"
     ]
    }
   ],
   "source": [
    "frameMFCC.shape"
   ]
  },
  {
   "cell_type": "code",
   "execution_count": 22,
   "metadata": {},
   "outputs": [
    {
     "name": "stdout",
     "output_type": "stream",
     "text": [
      "74\n"
     ]
    }
   ],
   "source": [
    "idxFile = 0\n",
    "idxSmp  = 3\n",
    "\n",
    "k=0\n",
    "for i in range(len(df['file'])):\n",
    "    for j in range(len(iAbre[i])):\n",
    "#         plt.imshow(kwFeat[i][j])\n",
    "#         plt.show()\n",
    "        k=k+1\n",
    "\n",
    "print(k)"
   ]
  },
  {
   "cell_type": "code",
   "execution_count": null,
   "metadata": {},
   "outputs": [],
   "source": []
  },
  {
   "cell_type": "code",
   "execution_count": 25,
   "metadata": {},
   "outputs": [],
   "source": [
    "wavwrite('frame.wav', fs, frame1)"
   ]
  }
 ],
 "metadata": {
  "kernelspec": {
   "display_name": "Python 3",
   "language": "python",
   "name": "python3"
  },
  "language_info": {
   "codemirror_mode": {
    "name": "ipython",
    "version": 3
   },
   "file_extension": ".py",
   "mimetype": "text/x-python",
   "name": "python",
   "nbconvert_exporter": "python",
   "pygments_lexer": "ipython3",
   "version": "3.6.4"
  }
 },
 "nbformat": 4,
 "nbformat_minor": 2
}
