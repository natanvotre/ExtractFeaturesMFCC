{
 "cells": [
  {
   "cell_type": "code",
   "execution_count": 1,
   "metadata": {},
   "outputs": [],
   "source": [
    "import numpy as np"
   ]
  },
  {
   "cell_type": "code",
   "execution_count": 3,
   "metadata": {},
   "outputs": [],
   "source": [
    "x = np.array([[1.38518, 1.38454, 1.3738],\n",
    "[1.40196, 1.39693, 1.38519],\n",
    "[1.37139, 1.36336, 1.36714],\n",
    "[1.4187, 1.40998, 1.41251],\n",
    "[1.42707, 1.4264, 1.42187],\n",
    "[1.38774, 1.37993, 1.38467],\n",
    "[-1.0608, -1.04924, -1.25853],\n",
    "[-1.00304, -0.99887, -1.01208],\n",
    "[-1.00573, -1.02275, -1.03104],\n",
    "[-1.01271, -1.02864, -1.02781],\n",
    "[-1.00658, -0.99355, -1.02272],\n",
    "[-1.00591, -1.00278, -1.01586]])\n",
    "\n"
   ]
  },
  {
   "cell_type": "code",
   "execution_count": 5,
   "metadata": {},
   "outputs": [
    {
     "data": {
      "text/plain": [
       "(12, 3)"
      ]
     },
     "execution_count": 5,
     "metadata": {},
     "output_type": "execute_result"
    }
   ],
   "source": [
    "x.shape"
   ]
  },
  {
   "cell_type": "code",
   "execution_count": 10,
   "metadata": {},
   "outputs": [
    {
     "data": {
      "text/plain": [
       "array([2.72512889e-05, 4.93734889e-05, 1.07590889e-05, 1.34172667e-05,\n",
       "       5.33442222e-06, 1.03209556e-05, 9.22589896e-03, 3.04016222e-05,\n",
       "       1.11000067e-04, 5.36070889e-05, 1.42352156e-04, 3.10984222e-05])"
      ]
     },
     "execution_count": 10,
     "metadata": {},
     "output_type": "execute_result"
    }
   ],
   "source": [
    "x.std(axis=1)**2"
   ]
  }
 ],
 "metadata": {
  "kernelspec": {
   "display_name": "Python 3",
   "language": "python",
   "name": "python3"
  },
  "language_info": {
   "codemirror_mode": {
    "name": "ipython",
    "version": 3
   },
   "file_extension": ".py",
   "mimetype": "text/x-python",
   "name": "python",
   "nbconvert_exporter": "python",
   "pygments_lexer": "ipython3",
   "version": "3.6.4"
  }
 },
 "nbformat": 4,
 "nbformat_minor": 2
}
