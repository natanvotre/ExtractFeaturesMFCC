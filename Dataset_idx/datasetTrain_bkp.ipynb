{
 "cells": [
  {
   "cell_type": "markdown",
   "metadata": {},
   "source": [
    "# Trata as palavras-chave dos arquivos de audio"
   ]
  },
  {
   "cell_type": "markdown",
   "metadata": {},
   "source": [
    "## Carrega a tabela que faz referencia aos arquivos de audio"
   ]
  },
  {
   "cell_type": "code",
   "execution_count": 1,
   "metadata": {},
   "outputs": [],
   "source": [
    "import pandas as pd\n",
    "import numpy as np\n",
    "import matplotlib.pyplot as plt\n",
    "import librosa\n",
    "\n",
    "from scipy.io.wavfile import read as wavread\n",
    "from scipy.io.wavfile import write as wavwrite"
   ]
  },
  {
   "cell_type": "code",
   "execution_count": 2,
   "metadata": {},
   "outputs": [
    {
     "name": "stderr",
     "output_type": "stream",
     "text": [
      "/home/usrp/anaconda3/lib/python3.6/site-packages/h5py/__init__.py:36: FutureWarning: Conversion of the second argument of issubdtype from `float` to `np.floating` is deprecated. In future, it will be treated as `np.float64 == np.dtype(float).type`.\n",
      "  from ._conv import register_converters as _register_converters\n",
      "Using TensorFlow backend.\n"
     ]
    }
   ],
   "source": [
    "import keras\n",
    "from keras.models import Sequential\n",
    "from keras.layers import Dense, Dropout"
   ]
  },
  {
   "cell_type": "code",
   "execution_count": 3,
   "metadata": {},
   "outputs": [
    {
     "data": {
      "text/html": [
       "<div>\n",
       "<style scoped>\n",
       "    .dataframe tbody tr th:only-of-type {\n",
       "        vertical-align: middle;\n",
       "    }\n",
       "\n",
       "    .dataframe tbody tr th {\n",
       "        vertical-align: top;\n",
       "    }\n",
       "\n",
       "    .dataframe thead th {\n",
       "        text-align: right;\n",
       "    }\n",
       "</style>\n",
       "<table border=\"1\" class=\"dataframe\">\n",
       "  <thead>\n",
       "    <tr style=\"text-align: right;\">\n",
       "      <th></th>\n",
       "      <th>Unnamed: 0</th>\n",
       "      <th>type</th>\n",
       "      <th>recOOV</th>\n",
       "      <th>file</th>\n",
       "      <th>idx_abre</th>\n",
       "      <th>Unnamed: 5</th>\n",
       "    </tr>\n",
       "  </thead>\n",
       "  <tbody>\n",
       "    <tr>\n",
       "      <th>0</th>\n",
       "      <td>0</td>\n",
       "      <td>MISC</td>\n",
       "      <td>100</td>\n",
       "      <td>Estevan_3.wav</td>\n",
       "      <td>[4730 76320 131880 180000 212000]</td>\n",
       "      <td>NaN</td>\n",
       "    </tr>\n",
       "    <tr>\n",
       "      <th>1</th>\n",
       "      <td>1</td>\n",
       "      <td>MISC</td>\n",
       "      <td>100</td>\n",
       "      <td>Marina_1.wav</td>\n",
       "      <td>[29450 106430 165400 214060 330190]</td>\n",
       "      <td>NaN</td>\n",
       "    </tr>\n",
       "    <tr>\n",
       "      <th>2</th>\n",
       "      <td>2</td>\n",
       "      <td>MISC</td>\n",
       "      <td>100</td>\n",
       "      <td>Marina_4.wav</td>\n",
       "      <td>[12170 82450 138570 180800 218120 280850 347250]</td>\n",
       "      <td>NaN</td>\n",
       "    </tr>\n",
       "    <tr>\n",
       "      <th>3</th>\n",
       "      <td>3</td>\n",
       "      <td>MISC</td>\n",
       "      <td>100</td>\n",
       "      <td>Marina_6.wav</td>\n",
       "      <td>[25130 57970 125860 199900 239820 277720 33808...</td>\n",
       "      <td>NaN</td>\n",
       "    </tr>\n",
       "    <tr>\n",
       "      <th>4</th>\n",
       "      <td>4</td>\n",
       "      <td>MISC</td>\n",
       "      <td>100</td>\n",
       "      <td>Natan_1.wav</td>\n",
       "      <td>[25670 107110 162700 208770 332250]</td>\n",
       "      <td>NaN</td>\n",
       "    </tr>\n",
       "  </tbody>\n",
       "</table>\n",
       "</div>"
      ],
      "text/plain": [
       "   Unnamed: 0  type  recOOV           file  \\\n",
       "0           0  MISC     100  Estevan_3.wav   \n",
       "1           1  MISC     100   Marina_1.wav   \n",
       "2           2  MISC     100   Marina_4.wav   \n",
       "3           3  MISC     100   Marina_6.wav   \n",
       "4           4  MISC     100    Natan_1.wav   \n",
       "\n",
       "                                            idx_abre  Unnamed: 5  \n",
       "0                  [4730 76320 131880 180000 212000]         NaN  \n",
       "1                [29450 106430 165400 214060 330190]         NaN  \n",
       "2   [12170 82450 138570 180800 218120 280850 347250]         NaN  \n",
       "3  [25130 57970 125860 199900 239820 277720 33808...         NaN  \n",
       "4                [25670 107110 162700 208770 332250]         NaN  "
      ]
     },
     "execution_count": 3,
     "metadata": {},
     "output_type": "execute_result"
    }
   ],
   "source": [
    "df = pd.read_csv('Dataset_idx.csv')\n",
    "df.head()"
   ]
  },
  {
   "cell_type": "markdown",
   "metadata": {},
   "source": [
    "## Formata as colunas de indexação em formatos de lista "
   ]
  },
  {
   "cell_type": "code",
   "execution_count": 4,
   "metadata": {},
   "outputs": [],
   "source": [
    "x = df['idx_abre']\n",
    "iAbre = {}\n",
    "for i in range(len(x)):\n",
    "    p = x[i]\n",
    "    p = p.replace('[','')\n",
    "    p = p.replace(']','')\n",
    "    \n",
    "    p = p.split(' ')\n",
    "#     print(p)\n",
    "    if p[0] != '':\n",
    "        iAbre[i] = list(map(int, p))\n",
    "    else:\n",
    "        iAbre[i] = list(map(int,[-1e9])) "
   ]
  },
  {
   "cell_type": "code",
   "execution_count": 5,
   "metadata": {},
   "outputs": [
    {
     "data": {
      "text/plain": [
       "[4730, 76320, 131880, 180000, 212000]"
      ]
     },
     "execution_count": 5,
     "metadata": {},
     "output_type": "execute_result"
    }
   ],
   "source": [
    "iAbre[0]"
   ]
  },
  {
   "cell_type": "markdown",
   "metadata": {},
   "source": [
    "## Definição das constantes\n",
    "\n",
    "Com índices de cada arquivo de audio para cada palavra-chave, temos o centro de cada _frame_ que conterá as respectivas palavras-chave. \n",
    "\n",
    "Então, agora é preciso configurar todos os parâmetros para extração de _feature_ para a entrada. \n",
    "Isso ocorre pois estes parâmetros alterarão os tamanhos de _frames_ que serão agora coletados para cada _keyword_   "
   ]
  },
  {
   "cell_type": "code",
   "execution_count": 6,
   "metadata": {},
   "outputs": [],
   "source": [
    "fs = 8000 # taxa de amostragem dos arquivos de audio\n",
    "\n",
    "n_fft= 512   # tamanho da FFT para extração dos MFCCs\n",
    "hop_length=0 # pulo entre cada frame\n",
    "n_mels= 50   # numero de filtros MEL\n",
    "n_mfcc= 15   # numero de coeficientes MFFC\n",
    "ofs_mfcc=2   # offset dado para não utilizar os primeiros coeficientes MFCC      \n",
    "\n",
    "fmin=100    # frequencia mínima do MFCC\n",
    "fmax=4000   # frequencia máxima do MFCC\n",
    "\n",
    "n_frames_MFCC = 10 # numero de frames MFCC que será usado para o reconhecimento.\n",
    "\n",
    "frame_len = (n_frames_MFCC-1)*n_fft # tamanho do frame recortado para cada entrada\n",
    "frame_lenD2 = int(frame_len/2) # tamanho do frame dividido por 2"
   ]
  },
  {
   "cell_type": "code",
   "execution_count": 7,
   "metadata": {},
   "outputs": [
    {
     "data": {
      "text/plain": [
       "(4608, 2304)"
      ]
     },
     "execution_count": 7,
     "metadata": {},
     "output_type": "execute_result"
    }
   ],
   "source": [
    "frame_len, frame_lenD2"
   ]
  },
  {
   "cell_type": "markdown",
   "metadata": {},
   "source": [
    "## Extração das _Features_ que contém a palavra-chave\n",
    "\n",
    "Agora que todas as constantes necessárias ja foram declaradas, é extraído de cada arquivo de áudio os _frames_ contendo a palavras-chave, conforme indexado por `iAbre[i]`.\n",
    "\n",
    "Após extraído tais _frames_, é realizado o cálculo do MFCC para a extração das _features_ de cada _frame_."
   ]
  },
  {
   "cell_type": "code",
   "execution_count": 8,
   "metadata": {},
   "outputs": [],
   "source": [
    "frameMFCC = {}\n",
    "kwFeat = {}\n",
    "for i in range(len(df['file'])):\n",
    "    wavstr = df['file'][i]  # extrai a string contendo o nome do arquivo de audio\n",
    "    [_, data_file] = wavread(wavstr) # Lê todo o arquivo de audio\n",
    "\n",
    "    data_file = data_file/32767 # normaliza as amostras do  áudio para o range [-1,1]\n",
    "    N = data_file.shape[0]      # indica o tamanho do arquivo\n",
    "\n",
    "#     # quando necessário é plotado o áudio do arquivo \n",
    "#     t = np.linspace(0, N/fs, N)\n",
    "#     plt.plot(t, data_file)\n",
    "    for j in range(len(iAbre[i])): # para cada audio, retira os frames kw e as features\n",
    "        if iAbre[i][j] < 0:\n",
    "            break\n",
    "        \n",
    "        frameSample = data_file[iAbre[i][j]-frame_lenD2:iAbre[i][j]+frame_lenD2]\n",
    "        MFCCsample = librosa.feature.mfcc(y=frameSample, sr=fs, fmin=fmin, fmax=fmax, \n",
    "                                             n_mfcc=n_mfcc, n_mels=n_mels, n_fft=n_fft)\n",
    "\n",
    "        frameMFCC[j] = MFCCsample[ofs_mfcc:]\n",
    "    \n",
    "    kwFeat[i] = frameMFCC"
   ]
  },
  {
   "cell_type": "code",
   "execution_count": 9,
   "metadata": {},
   "outputs": [
    {
     "name": "stdout",
     "output_type": "stream",
     "text": [
      "number of keyword inputs: 106\n",
      "number of keyword test inputs: 16\n"
     ]
    },
    {
     "data": {
      "image/png": "[encoded data removed]",
      "text/plain": [
       "<Figure size 432x288 with 1 Axes>"
      ]
     },
     "metadata": {},
     "output_type": "display_data"
    }
   ],
   "source": [
    "lenKW_1 = 0\n",
    "for i in range(len(df['file'])):\n",
    "    if df['file'][i].find('Vitor') == -1:\n",
    "        for j in range(len(iAbre[i])):\n",
    "            if iAbre[i][j] < 0:\n",
    "                break\n",
    "            \n",
    "            lenKW_1=lenKW_1+1\n",
    "\n",
    "lenKW_1_test = 0\n",
    "for i in range(len(df['file'])):\n",
    "    if df['file'][i].find('Vitor') != -1:\n",
    "        for j in range(len(iAbre[i])):\n",
    "            if iAbre[i][j] < 0:\n",
    "                break\n",
    "            \n",
    "            lenKW_1_test=lenKW_1_test+1\n",
    "            \n",
    "print('number of keyword inputs:',lenKW_1)\n",
    "print('number of keyword test inputs:',lenKW_1_test)\n",
    "imgplot = plt.imshow(kwFeat[0][7])"
   ]
  },
  {
   "cell_type": "code",
   "execution_count": 10,
   "metadata": {},
   "outputs": [
    {
     "data": {
      "text/plain": [
       "[100]"
      ]
     },
     "execution_count": 10,
     "metadata": {},
     "output_type": "execute_result"
    }
   ],
   "source": [
    "list(map(int,['100']))"
   ]
  },
  {
   "cell_type": "markdown",
   "metadata": {},
   "source": [
    "## Extração dos indices e das _Features_ _Out of Vocabulary_\n",
    "\n",
    "Para treinar a rede, é necessário utilizar exemplos do que não é as palavras-chave, chamadas de _Out Of Vocabulary Word_ (OOV _words_).\n",
    "Então, é indexado aleatoriamente trechos dos áudios contendo palavras OOV, para posteriormente a extração das _features_."
   ]
  },
  {
   "cell_type": "code",
   "execution_count": 11,
   "metadata": {},
   "outputs": [],
   "source": [
    "# OOV_lenght = 100 # gera OOV_length OutOfVoc frames por audio\n",
    "OOV_lenght = list(map(int,df['recOOV'])) # gera OOV_length OutOfVoc frames por audio\n",
    "iOOV = {}\n",
    "# iOOVk = np.zeros(OOV_lenght)\n",
    "\n",
    "for i in range(len(df['file'])):\n",
    "    wavstr = df['file'][i]  # extrai a string contendo o nome do arquivo de audio\n",
    "    [_, data_file] = wavread(wavstr) # Lê todo o arquivo de audio\n",
    "\n",
    "    data_file = data_file/32767 # normaliza as amostras do  áudio para o range [-1,1]\n",
    "    N = data_file.shape[0]      # indica o tamanho do arquivo\n",
    "#     print(N)\n",
    "    \n",
    "    iOOVk = np.zeros(OOV_lenght[i])\n",
    "\n",
    "    for k in range(OOV_lenght[i]):\n",
    "        # tenta adquirir indices que indicam frames com Out Of Voc words\n",
    "        # de forma aleatoria\n",
    "        goodId = False\n",
    "        while goodId == False:\n",
    "            idx = np.random.randint(N-frame_len)+frame_lenD2 # gera numero aleatorio\n",
    "            goodId = True\n",
    "            for j in range(len(iAbre[i])): # analisa o indice criado com os indices das kw\n",
    "                if abs(idx-iAbre[i][j]) < frame_len:\n",
    "                    goodId = False\n",
    "        \n",
    "        iOOVk[k] = idx\n",
    "            \n",
    "    iOOV[i] = iOOVk.astype(int)"
   ]
  },
  {
   "cell_type": "code",
   "execution_count": 12,
   "metadata": {},
   "outputs": [
    {
     "data": {
      "text/plain": [
       "array([377878,  37907, 225683, 266144, 101531, 268794,  18636, 171478,\n",
       "       250939,   7300, 430656, 309263, 139551, 138435,  95420,  71968,\n",
       "       221922,  44497, 135134,  50867, 283265,  56453, 233088, 192572,\n",
       "       196053, 354433, 308042,  23508, 268079, 209363, 346490, 309843,\n",
       "        44354, 181016, 181742, 415339, 151058, 262394, 246575, 296328,\n",
       "       349715, 338908,  83153, 301627, 270334, 400672, 357610, 246127,\n",
       "       302811, 292559,  72205, 278913, 424262, 279775, 189093, 450156,\n",
       "       180323, 383465, 188691, 139581, 340651, 400713, 138035, 403847,\n",
       "       412358, 101643, 315824,  52243, 444335, 317020, 241313, 399080,\n",
       "       399750, 139172, 119023, 190849, 263221, 412250,  83482, 431773,\n",
       "        68995, 390136, 345452, 340633, 197571,  43423, 433565,   3599,\n",
       "       262960, 128113, 180207, 245263, 316151, 267382,  69136, 371870,\n",
       "       131517, 442064, 406742,  38157])"
      ]
     },
     "execution_count": 12,
     "metadata": {},
     "output_type": "execute_result"
    }
   ],
   "source": [
    "iOOV[1]"
   ]
  },
  {
   "cell_type": "markdown",
   "metadata": {},
   "source": [
    "### Gera arquivo de audio contendo os trechos OOV para analise"
   ]
  },
  {
   "cell_type": "code",
   "execution_count": 13,
   "metadata": {},
   "outputs": [],
   "source": [
    "i=2\n",
    "wavstr = df['file'][i]  # extrai a string contendo o nome do arquivo de audio\n",
    "[_, data_file] = wavread(wavstr) # Lê todo o arquivo de audio\n",
    "\n",
    "data_file = data_file/32767 # normaliza as amostras do  áudio para o range [-1,1]\n",
    "N = data_file.shape[0]      # indica o tamanho do arquivo\n",
    "\n",
    "#     # quando necessário é plotado o áudio do arquivo \n",
    "#     t = np.linspace(0, N/fs, N)\n",
    "#     plt.plot(t, data_file)\n",
    "\n",
    "frameSample = np.zeros((frame_len,len(iOOV[i])))\n",
    "for j in range(len(iOOV[i])): # para cada audio, retira os frames kw e as features\n",
    "    frameSample[:,j] = data_file[iOOV[i][j]-frame_lenD2:iOOV[i][j]+frame_lenD2]\n",
    "\n",
    "frameSample = frameSample.T.reshape(-1)\n",
    "wavwrite('framesOOV.wav', fs, frameSample)"
   ]
  },
  {
   "cell_type": "markdown",
   "metadata": {},
   "source": [
    "### Extração das Features OOV"
   ]
  },
  {
   "cell_type": "code",
   "execution_count": 14,
   "metadata": {},
   "outputs": [],
   "source": [
    "frameMFCC = {}\n",
    "oovFeat = {}\n",
    "for i in range(len(df['file'])):\n",
    "    wavstr = df['file'][i]  # extrai a string contendo o nome do arquivo de audio\n",
    "    [_, data_file] = wavread(wavstr) # Lê todo o arquivo de audio\n",
    "\n",
    "    data_file = data_file/32767 # normaliza as amostras do  áudio para o range [-1,1]\n",
    "    N = data_file.shape[0]      # indica o tamanho do arquivo\n",
    "\n",
    "#     # quando necessário é plotado o áudio do arquivo \n",
    "#     t = np.linspace(0, N/fs, N)\n",
    "#     plt.plot(t, data_file)\n",
    "    for j in range(len(iOOV[i])): # para cada audio, retira os frames kw e as features\n",
    "        frameSample = data_file[iOOV[i][j]-frame_lenD2:iOOV[i][j]+frame_lenD2]\n",
    "        \n",
    "        MFCCsample = librosa.feature.mfcc(y=frameSample, sr=fs, fmin=fmin, fmax=fmax, \n",
    "                                             n_mfcc=n_mfcc, n_mels=n_mels, n_fft=n_fft)\n",
    "        \n",
    "        frameMFCC[j] = MFCCsample[ofs_mfcc:]\n",
    "    \n",
    "    oovFeat[i] = frameMFCC"
   ]
  },
  {
   "cell_type": "code",
   "execution_count": 15,
   "metadata": {},
   "outputs": [
    {
     "name": "stdout",
     "output_type": "stream",
     "text": [
      "number of out-of-voc inputs: 2140\n",
      "number of out-of-voc test inputs: 320\n"
     ]
    },
    {
     "data": {
      "image/png": "[encoded data removed]",
      "text/plain": [
       "<Figure size 432x288 with 1 Axes>"
      ]
     },
     "metadata": {},
     "output_type": "display_data"
    }
   ],
   "source": [
    "lenOOV = 0\n",
    "for i in range(len(df['file'])):\n",
    "    if df['file'][i].find('Vitor') == -1:\n",
    "        for j in range(len(iOOV[i])):\n",
    "            lenOOV=lenOOV+1\n",
    "\n",
    "lenOOVtest = 0\n",
    "for i in range(len(df['file'])):\n",
    "    if df['file'][i].find('Vitor') != -1:\n",
    "        for j in range(len(iOOV[i])):\n",
    "            lenOOVtest=lenOOVtest+1\n",
    "            \n",
    "print('number of out-of-voc inputs:', lenOOV)\n",
    "print('number of out-of-voc test inputs:', lenOOVtest)\n",
    "\n",
    "imgplot = plt.imshow(oovFeat[0][99])"
   ]
  },
  {
   "cell_type": "markdown",
   "metadata": {},
   "source": [
    "# Preparando o _Data Array_\n",
    "\n",
    "Neste ponto é gerado _arrays_ para dados de treinamento e de teste.\n",
    "\n",
    "Para isso, é atribuido _arrays_ de elementos OOV e elementos KW, concatenados, embaralhados, e separados em dados de treinamento e de teste.   "
   ]
  },
  {
   "cell_type": "code",
   "execution_count": 16,
   "metadata": {},
   "outputs": [],
   "source": [
    "def splitData(x, y, p=0.2): # funcao para embaralhar e separar os dados em treinamento e teste\n",
    "    shapeInX = x.shape\n",
    "    shapeInY = y.shape\n",
    "    datax = x.reshape(shapeInX[0],-1)\n",
    "    \n",
    "    data = np.concatenate((datax, y), axis=1)\n",
    "    # random.randint(0, int(x.shape[0]*(1-p)))\n",
    "    xScrambled = np.random.permutation(data)\n",
    "    nLines = xScrambled.shape[0]\n",
    "\n",
    "    data_train = xScrambled[0:int(round(nLines*(1-p))), :]\n",
    "    data_test = xScrambled[int(round(nLines*(1-p))):, :]\n",
    "#     print(nLines)\n",
    "#     print(data_train.shape)\n",
    "    \n",
    "    shape_train = np.asarray(shapeInX)\n",
    "    shape_train[0] = data_train.shape[0]\n",
    "    x_train = data_train[:,:data_train.shape[1]-shapeInY[1]].reshape(tuple(shape_train))\n",
    "    y_train = data_train[:,[data_train.shape[1]-shapeInY[1]]]\n",
    "    \n",
    "    \n",
    "    shape_test = np.asarray(shapeInX)\n",
    "    shape_test[0] = data_test.shape[0]\n",
    "    x_test = data_test[:,:data_test.shape[1]-shapeInY[1]].reshape(tuple(shape_test))\n",
    "    y_test = data_test[:,data_test.shape[1]-shapeInY[1]:]\n",
    "    \n",
    "    \n",
    "    return (x_train, y_train), (x_test, y_test)"
   ]
  },
  {
   "cell_type": "code",
   "execution_count": 17,
   "metadata": {},
   "outputs": [
    {
     "name": "stdout",
     "output_type": "stream",
     "text": [
      "Keyword Abre Array Shape: (106, 13, 10, 1)\n",
      "Out Of Voc Array Shape: (2140, 13, 10, 1)\n",
      "\n",
      "Concatenate Array Shape: (2246, 13, 10, 1)\n",
      "\n",
      "Train data shape: (2021, 13, 10, 1)\n",
      "Test data shape: (225, 13, 10, 1)\n",
      "\n",
      "counting of Truth keywords in Test Data: 9\n",
      "counting of OOV words in Test Data: 216\n"
     ]
    }
   ],
   "source": [
    "# gera os arrays OOV e KW, com suas respectivas labels\n",
    "x_OOV = np.zeros((lenOOV, oovFeat[0][0].shape[0], oovFeat[0][0].shape[1],1))\n",
    "x_KW_1 = np.zeros((lenKW_1, oovFeat[0][0].shape[0], oovFeat[0][0].shape[1],1))\n",
    "\n",
    "x_OOV_test = np.zeros((lenOOVtest, oovFeat[0][0].shape[0], oovFeat[0][0].shape[1],1))\n",
    "x_KW_1_test = np.zeros((lenKW_1_test, oovFeat[0][0].shape[0], oovFeat[0][0].shape[1],1))\n",
    "\n",
    "# y_OOV = np.concatenate((np.ones((lenOOV, 1)), np.zeros((lenOOV,  1))), axis=1)\n",
    "# y_KW_1 = np.concatenate((np.zeros((lenKW_1,  1)), np.ones((lenKW_1, 1))), axis=1)\n",
    "y_OOV = np.zeros((lenOOV,  1))\n",
    "y_KW_1 = np.ones((lenKW_1, 1))\n",
    "\n",
    "y_OOV_test = np.zeros((lenOOVtest,  1))\n",
    "y_KW_1_test = np.ones((lenKW_1_test, 1))\n",
    "\n",
    "k=0\n",
    "m=0\n",
    "for i in range(len(df['file'])):\n",
    "    if df['file'][i].find('Vitor') == -1:\n",
    "        for j in range(len(iOOV[i])): \n",
    "            x_OOV[k,:,:,0] = oovFeat[i][j]\n",
    "            k=k+1\n",
    "    else:\n",
    "        for j in range(len(iOOV[i])): \n",
    "            x_OOV_test[m,:,:,0] = oovFeat[i][j]\n",
    "            m=m+1\n",
    "        \n",
    "\n",
    "k=0\n",
    "m=0\n",
    "for i in range(len(df['file'])):\n",
    "    if df['file'][i].find('Vitor') == -1:\n",
    "        for j in range(len(iAbre[i])):\n",
    "            if iAbre[i][j] < 0:\n",
    "                break\n",
    "            x_KW_1[k,:,:,0] = kwFeat[i][j]\n",
    "            k=k+1\n",
    "    else:\n",
    "        for j in range(len(iAbre[i])): \n",
    "            if iAbre[i][j] < 0:\n",
    "                break\n",
    "                \n",
    "            x_KW_1_test[m,:,:,0] = kwFeat[i][j]\n",
    "            m=m+1\n",
    "\n",
    "print('Keyword Abre Array Shape:', x_KW_1.shape)\n",
    "print('Out Of Voc Array Shape:', x_OOV.shape)\n",
    "        \n",
    "x = np.concatenate((x_OOV, x_KW_1), axis=0)\n",
    "y = np.concatenate((y_OOV, y_KW_1), axis=0)\n",
    "\n",
    "print('\\nConcatenate Array Shape:', x.shape)\n",
    "\n",
    "# print(x.shape)\n",
    "# print(x_OOV.shape)\n",
    "# print(x_KW_1.shape)\n",
    "# print(y.shape)\n",
    "# print(y_OOV.shape)\n",
    "# print(y_KW_1.shape)\n",
    "\n",
    "(x_train, y_train), (x_test, y_test) = splitData(x, y, p=0.1)\n",
    "print('\\nTrain data shape:', x_train.shape)\n",
    "print('Test data shape:', x_test.shape)\n",
    "\n",
    "# print(x_train.shape)\n",
    "# print(y_train.shape)\n",
    "# print(x_test.shape)\n",
    "# print(y_test.shape)\n",
    "\n",
    "print('\\ncounting of Truth keywords in Test Data:', list(y_test[:]).count(1))\n",
    "print('counting of OOV words in Test Data:', list(y_test[:]).count(0))"
   ]
  },
  {
   "cell_type": "code",
   "execution_count": 19,
   "metadata": {},
   "outputs": [],
   "source": [
    "prepros_feat = [fs,# = 16000 # taxa de amostragem dos arquivos de audio\n",
    "                n_fft,#= 512   # tamanho da FFT para extração dos MFCCs\n",
    "                hop_length,#=0 # pulo entre cada frame\n",
    "                n_mels,#= 50   # numero de filtros MEL\n",
    "                n_mfcc,#= 16   # numero de coeficientes MFCC\n",
    "                ofs_mfcc,#=2   # offset dado para não utilizar os primeiros coeficientes MFCC      \n",
    "                fmin,#=100    # frequencia mínima do MFCC\n",
    "                fmax,#=4000   # frequencia máxima do MFCC\n",
    "                n_frames_MFCC,# = 10 # numero de frames MFCC que será usado para o reconhecimento.]\n",
    "                frame_len, #= (n_frames_MFCC-1)*n_fft # tamanho do frame recortado para cada entrada\n",
    "                frame_lenD2 #= int(frame_len/2) # tamanho do frame dividido por 2\n",
    "                ]\n",
    "\n",
    "Rede = {}\n",
    "Rede['preFeat'] = prepros_feat\n",
    "Rede['x_train'] = x_train\n",
    "Rede['y_train'] = y_train\n",
    "Rede['x_test'] = x_test\n",
    "Rede['y_test'] = y_test\n",
    "\n",
    "# Rede['Model'] = model\n",
    "# Rede['History'] = history\n",
    "# Rede = [prepros_feat, [x_train, y_train, x_test, y_test]]\n",
    "\n",
    "# pickle.dump( Rede, open( 'RedeTeste1.pickle', 'wb' ) )\n",
    "np.save(\"DataSet1.npy\", Rede)\n"
   ]
  },
  {
   "cell_type": "code",
   "execution_count": 20,
   "metadata": {},
   "outputs": [],
   "source": [
    "Rede = np.load(\"DataSet1.npy\").item()\n",
    "\n",
    "# prepros_feat \t= Rede['preFeat']  \n",
    "# x_train \t\t= Rede['x_train']\n",
    "# y_train\t\t\t= Rede['y_train'] \n",
    "# x_test \t\t\t= Rede['x_test'] \n",
    "# y_test \t\t\t= Rede['y_test']\n",
    "prepros_feat \t= Rede['preFeat']  \n",
    "x_train \t\t= Rede['x_train']\n",
    "y_train\t\t\t= Rede['y_train'] \n",
    "x_test \t\t\t= Rede['x_test'] \n",
    "y_test \t\t\t= Rede['y_test']\n",
    "\n",
    "fs = prepros_feat[0] # = 16000 # taxa de amostragem dos arquivos de audio\n",
    "n_fft = prepros_feat[1] #= 512   # tamanho da FFT para extração dos MFCCs\n",
    "hop_length = prepros_feat[2] #=0 # pulo entre cada frame\n",
    "n_mels = prepros_feat[3] #= 50   # numero de filtros MEL\n",
    "n_mfcc = prepros_feat[4] #= 16   # numero de coeficientes MFCC\n",
    "ofs_mfcc = prepros_feat[5] #=2   # offset dado para não utilizar os primeiros coeficientes MFCC      \n",
    "fmin = prepros_feat[6] #=100    # frequencia mínima do MFCC\n",
    "fmax = prepros_feat[7] #=4000   # frequencia máxima do MFCC\n",
    "n_frames_MFCC = prepros_feat[8] # = 10 # numero de frames MFCC que será usado para o reconhecimento.]\n",
    "frame_len = prepros_feat[9]\n",
    "frame_lenD2 = prepros_feat[10]\n"
   ]
  },
  {
   "cell_type": "markdown",
   "metadata": {},
   "source": [
    "# Test with Convolutional Layers"
   ]
  },
  {
   "cell_type": "code",
   "execution_count": 21,
   "metadata": {},
   "outputs": [
    {
     "name": "stdout",
     "output_type": "stream",
     "text": [
      "(13, 10, 1)\n",
      "Epoch 1/40\n",
      "2021/2021 [==============================] - 0s 236us/step - loss: 5.2503 - acc: 0.3909\n",
      "Epoch 2/40\n",
      "2021/2021 [==============================] - 0s 77us/step - loss: 1.2021 - acc: 0.7709\n",
      "Epoch 3/40\n",
      "2021/2021 [==============================] - 0s 74us/step - loss: 0.5497 - acc: 0.8956\n",
      "Epoch 4/40\n",
      "2021/2021 [==============================] - 0s 84us/step - loss: 0.4510 - acc: 0.9080\n",
      "Epoch 5/40\n",
      "2021/2021 [==============================] - 0s 74us/step - loss: 0.3493 - acc: 0.9070\n",
      "Epoch 6/40\n",
      "2021/2021 [==============================] - 0s 74us/step - loss: 0.2642 - acc: 0.9278\n",
      "Epoch 7/40\n",
      "2021/2021 [==============================] - 0s 78us/step - loss: 0.2140 - acc: 0.9451\n",
      "Epoch 8/40\n",
      "2021/2021 [==============================] - 0s 70us/step - loss: 0.1822 - acc: 0.9515\n",
      "Epoch 9/40\n",
      "2021/2021 [==============================] - 0s 70us/step - loss: 0.1604 - acc: 0.9634\n",
      "Epoch 10/40\n",
      "2021/2021 [==============================] - 0s 67us/step - loss: 0.1446 - acc: 0.9688\n",
      "Epoch 11/40\n",
      "2021/2021 [==============================] - 0s 72us/step - loss: 0.1315 - acc: 0.9743\n",
      "Epoch 12/40\n",
      "2021/2021 [==============================] - 0s 69us/step - loss: 0.1204 - acc: 0.9772\n",
      "Epoch 13/40\n",
      "2021/2021 [==============================] - 0s 75us/step - loss: 0.1106 - acc: 0.9777\n",
      "Epoch 14/40\n",
      "2021/2021 [==============================] - 0s 71us/step - loss: 0.1021 - acc: 0.9762\n",
      "Epoch 15/40\n",
      "2021/2021 [==============================] - 0s 79us/step - loss: 0.0938 - acc: 0.9777\n",
      "Epoch 16/40\n",
      "2021/2021 [==============================] - 0s 72us/step - loss: 0.0861 - acc: 0.9782\n",
      "Epoch 17/40\n",
      "2021/2021 [==============================] - 0s 73us/step - loss: 0.0788 - acc: 0.9802\n",
      "Epoch 18/40\n",
      "2021/2021 [==============================] - 0s 71us/step - loss: 0.0724 - acc: 0.9802\n",
      "Epoch 19/40\n",
      "2021/2021 [==============================] - 0s 75us/step - loss: 0.0667 - acc: 0.9822\n",
      "Epoch 20/40\n",
      "2021/2021 [==============================] - 0s 78us/step - loss: 0.0616 - acc: 0.9876\n",
      "Epoch 21/40\n",
      "2021/2021 [==============================] - 0s 74us/step - loss: 0.0576 - acc: 0.9891\n",
      "Epoch 22/40\n",
      "2021/2021 [==============================] - 0s 75us/step - loss: 0.0532 - acc: 0.9906\n",
      "Epoch 23/40\n",
      "2021/2021 [==============================] - 0s 74us/step - loss: 0.0495 - acc: 0.9921\n",
      "Epoch 24/40\n",
      "2021/2021 [==============================] - 0s 75us/step - loss: 0.0463 - acc: 0.9921\n",
      "Epoch 25/40\n",
      "2021/2021 [==============================] - 0s 73us/step - loss: 0.0435 - acc: 0.9926\n",
      "Epoch 26/40\n",
      "2021/2021 [==============================] - 0s 74us/step - loss: 0.0408 - acc: 0.9936\n",
      "Epoch 27/40\n",
      "2021/2021 [==============================] - 0s 69us/step - loss: 0.0383 - acc: 0.9946\n",
      "Epoch 28/40\n",
      "2021/2021 [==============================] - 0s 76us/step - loss: 0.0359 - acc: 0.9946\n",
      "Epoch 29/40\n",
      "2021/2021 [==============================] - 0s 79us/step - loss: 0.0342 - acc: 0.9946\n",
      "Epoch 30/40\n",
      "2021/2021 [==============================] - 0s 71us/step - loss: 0.0321 - acc: 0.9946\n",
      "Epoch 31/40\n",
      "2021/2021 [==============================] - 0s 74us/step - loss: 0.0308 - acc: 0.9946\n",
      "Epoch 32/40\n",
      "2021/2021 [==============================] - 0s 73us/step - loss: 0.0291 - acc: 0.9946\n",
      "Epoch 33/40\n",
      "2021/2021 [==============================] - 0s 71us/step - loss: 0.0276 - acc: 0.9951\n",
      "Epoch 34/40\n",
      "2021/2021 [==============================] - 0s 74us/step - loss: 0.0263 - acc: 0.9955\n",
      "Epoch 35/40\n",
      "2021/2021 [==============================] - 0s 74us/step - loss: 0.0251 - acc: 0.9960\n",
      "Epoch 36/40\n",
      "2021/2021 [==============================] - 0s 70us/step - loss: 0.0239 - acc: 0.9960\n",
      "Epoch 37/40\n",
      "2021/2021 [==============================] - 0s 72us/step - loss: 0.0228 - acc: 0.9970\n",
      "Epoch 38/40\n",
      "2021/2021 [==============================] - 0s 70us/step - loss: 0.0217 - acc: 0.9975\n",
      "Epoch 39/40\n",
      "2021/2021 [==============================] - 0s 69us/step - loss: 0.0207 - acc: 0.9975\n",
      "Epoch 40/40\n",
      "2021/2021 [==============================] - 0s 81us/step - loss: 0.0197 - acc: 0.9975\n",
      "225/225 [==============================] - 0s 207us/step\n",
      "1.0\n"
     ]
    }
   ],
   "source": [
    "from keras.layers import Conv2D, MaxPooling2D, Input, Dense, Flatten\n",
    "\n",
    "input_shape = x_train.shape[1:]\n",
    "num_classes = 2\n",
    "\n",
    "# y_train = keras.utils.to_categorical(y_train, num_classes)\n",
    "# y_test = keras.utils.to_categorical(y_test, num_classes)\n",
    "\n",
    "print(input_shape)\n",
    "model = Sequential()\n",
    "model.add(Conv2D(3, kernel_size=(3, 3), strides=(1, 1),\n",
    "                 activation='relu',\n",
    "                 input_shape=input_shape))\n",
    "model.add(MaxPooling2D(pool_size=(2, 2), strides=(2, 2)))\n",
    "# model.add(Conv2D(4, (2, 2), activation='relu'))\n",
    "# model.add(MaxPooling2D(pool_size=(2, 2)))\n",
    "model.add(Flatten())\n",
    "# model.add(Dense(10, activation='relu'))\n",
    "model.add(Dense(num_classes, activation='softmax'))\n",
    "\n",
    "model.compile(loss='sparse_categorical_crossentropy',\n",
    "              optimizer='adam',\n",
    "              metrics=['accuracy'])\n",
    "\n",
    "model.fit(x_train, y_train,\n",
    "          epochs=40,\n",
    "          batch_size=128)\n",
    "\n",
    "score = model.evaluate(x_test, y_test, batch_size=128)\n",
    "print(score[1])"
   ]
  },
  {
   "cell_type": "code",
   "execution_count": 41,
   "metadata": {},
   "outputs": [
    {
     "data": {
      "text/plain": [
       "[0.016585472971200943, 1.0]"
      ]
     },
     "execution_count": 41,
     "metadata": {},
     "output_type": "execute_result"
    }
   ],
   "source": [
    "score"
   ]
  },
  {
   "cell_type": "code",
   "execution_count": 36,
   "metadata": {},
   "outputs": [
    {
     "data": {
      "text/plain": [
       "(15, 10)"
      ]
     },
     "execution_count": 36,
     "metadata": {},
     "output_type": "execute_result"
    }
   ],
   "source": [
    "frameMFCC.shape"
   ]
  },
  {
   "cell_type": "code",
   "execution_count": 22,
   "metadata": {},
   "outputs": [
    {
     "name": "stdout",
     "output_type": "stream",
     "text": [
      "74\n"
     ]
    }
   ],
   "source": [
    "idxFile = 0\n",
    "idxSmp  = 3\n",
    "\n",
    "k=0\n",
    "for i in range(len(df['file'])):\n",
    "    for j in range(len(iAbre[i])):\n",
    "#         plt.imshow(kwFeat[i][j])\n",
    "#         plt.show()\n",
    "        k=k+1\n",
    "\n",
    "print(k)"
   ]
  },
  {
   "cell_type": "code",
   "execution_count": 26,
   "metadata": {},
   "outputs": [
    {
     "data": {
      "image/png": "[encoded data removed]",
      "text/plain": [
       "<Figure size 432x288 with 1 Axes>"
      ]
     },
     "metadata": {},
     "output_type": "display_data"
    }
   ],
   "source": []
  },
  {
   "cell_type": "code",
   "execution_count": 25,
   "metadata": {},
   "outputs": [],
   "source": [
    "wavwrite('frame.wav', fs, frame1)"
   ]
  },
  {
   "cell_type": "code",
   "execution_count": null,
   "metadata": {},
   "outputs": [],
   "source": [
    "np.load()"
   ]
  }
 ],
 "metadata": {
  "kernelspec": {
   "display_name": "Python 3",
   "language": "python",
   "name": "python3"
  },
  "language_info": {
   "codemirror_mode": {
    "name": "ipython",
    "version": 3
   },
   "file_extension": ".py",
   "mimetype": "text/x-python",
   "name": "python",
   "nbconvert_exporter": "python",
   "pygments_lexer": "ipython3",
   "version": "3.6.4"
  }
 },
 "nbformat": 4,
 "nbformat_minor": 2
}
