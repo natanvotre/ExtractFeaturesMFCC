{
 "cells": [
  {
   "cell_type": "markdown",
   "metadata": {},
   "source": [
    "# _Keyword Spotting_ usando redes convolucionais"
   ]
  },
  {
   "cell_type": "markdown",
   "metadata": {},
   "source": [
    "## Introdução\n",
    "\n",
    "_Keyword Spotting_ é uma técnica de detecção de palavras chaves pré-definidas em um falas continuadas [1]. É muito utilizado no contexto de reconhecimento de fala nos _wake word systems_, tal como o \"_Ok Google!_\" dos dispositivos **Android** [2]. Neste documento, é apresentado uma solução em _Keyword Spotting_ usando redes neurais artificiais convolucionais. \n",
    "\n",
    "### _Dataset_\n",
    "\n",
    "O _dataset_ utilizado no projeto é o **_DARPA TIMIT_**, conhecido na literatura e utilizado em algumas publicações [3-5]. Este _dataset_ é dividido em locutores e por texto, onde o usuário tem acesso aos arquivos `.WAV`, à transcrição e também as indexações por palavras e por fonemas.\n",
    "\n",
    "Neste trabalho é utilizado as indexações por palavras e também os arquivos `.WAV` contidos no _dataset_.  \n",
    "\n",
    "### Divisão do _dataset_\n",
    "\n",
    "O _dataset_ é dividido em dois blocos: treinamento e teste.\n",
    "A classificação é realizda através de duas classes: palavras fora do vocabulário (**OOV**) e palavra-chave (**KW**)\n",
    "\n",
    "### _Features_\n",
    "\n",
    "Para a extração de _features_ dos trechos de áudio, correspondentes a OOV e KW, é utilizado uma matriz de **_Mel Frequency Cepstrum Coefficients_** (MFCC). Cada coluna da matriz representa uma extração MFCC de um subtrecho do trecho de áudio.\n",
    "\n",
    "Os MFCCs são extraidos a partir dos parametros:\n",
    "```python\n",
    "fs = 16000 # taxa de amostragem dos arquivos de audio\n",
    "\n",
    "n_fft= 512   # tamanho da FFT para extração dos MFCCs\n",
    "hop_length=0 # pulo entre cada frame\n",
    "n_mels= 50   # numero de filtros MEL\n",
    "n_mfcc= 15   # numero de coeficientes MFFC\n",
    "ofs_mfcc=2   # offset dado para não utilizar os primeiros coeficientes MFCC      \n",
    "\n",
    "fmin=100    # frequencia mínima do MFCC\n",
    "fmax=4000   # frequencia máxima do MFCC\n",
    "\n",
    "n_frames_MFCC = 10 # numero de frames MFCC que será usado para o reconhecimento.\n",
    "\n",
    "frame_len = (n_frames_MFCC-1)*n_fft # tamanho do frame recortado para cada entrada\n",
    "frame_lenD2 = int(frame_len/2) # tamanho do frame dividido por 2\n",
    "```\n",
    "\n",
    "Para a extração dos MFCCs, é utilizado a biblioteca ```librosa```\n",
    "```python\n",
    "import librosa```\n",
    "\n",
    "### Rede Neural\n",
    "\n",
    "O treinamento da Rede Neural é realizado utilizando a biblioteca ```keras```\n",
    "```python\n",
    "import keras```\n"
   ]
  },
  {
   "cell_type": "markdown",
   "metadata": {},
   "source": [
    "## Código\n",
    "\n",
    "Na sequência é apresentado o código realizado para extração de _features_, treinamento e teste da Rede Neural."
   ]
  },
  {
   "cell_type": "markdown",
   "metadata": {},
   "source": [
    "### Declaração de bibliotecas"
   ]
  },
  {
   "cell_type": "code",
   "execution_count": 185,
   "metadata": {},
   "outputs": [],
   "source": [
    "import pandas as pd\n",
    "import numpy as np\n",
    "import matplotlib.pyplot as plt\n",
    "import librosa\n",
    "\n",
    "from scipy.io.wavfile import read as wavread\n",
    "from scipy.io.wavfile import write as wavwrite\n",
    "\n",
    "import os, time"
   ]
  },
  {
   "cell_type": "code",
   "execution_count": 186,
   "metadata": {},
   "outputs": [],
   "source": [
    "import keras\n",
    "from keras.models import Sequential\n",
    "from keras.layers import Dense, Dropout"
   ]
  },
  {
   "cell_type": "markdown",
   "metadata": {},
   "source": [
    "### Declaração de _PATHs_\n",
    "\n",
    "Aqui é declarado os caminhos para que estão armazenados o _dataset_ e onde estará armazenada as _features_ de KW e OOV.\n",
    "\n",
    "Também é declarado a _keyword_ escolhida."
   ]
  },
  {
   "cell_type": "code",
   "execution_count": 214,
   "metadata": {},
   "outputs": [],
   "source": [
    "TRAIN_DIR_TIMIT = 'TRAIN'\n",
    "TRAIN_DIR_KW = os.path.join('data','train','kw')\n",
    "TRAIN_DIR_OOV = os.path.join('data','train','oov')\n",
    "TRAIN_DIR_KW_SMP = os.path.join('data','train','kw_samples')\n",
    "\n",
    "TEST_DIR_TIMIT = 'TEST'\n",
    "TEST_DIR_KW = os.path.join('data','test','kw')\n",
    "TEST_DIR_OOV = os.path.join('data','test','oov')\n",
    "TEST_DIR_KW_SMP = os.path.join('data','test','kw_samples')\n",
    "\n",
    "# keyword escolhida\n",
    "KEYWORD = 'she'"
   ]
  },
  {
   "cell_type": "markdown",
   "metadata": {},
   "source": [
    "### Declaração de constantes MFCC\n",
    "\n",
    "Aqui são declaradas as constantes utilizadas na extração de _features_ MFCC dos trechos de áudio."
   ]
  },
  {
   "cell_type": "code",
   "execution_count": 215,
   "metadata": {},
   "outputs": [],
   "source": [
    "fs = 16000 # taxa de amostragem dos arquivos de audio\n",
    "\n",
    "n_fft= 512   # tamanho da FFT para extração dos MFCCs\n",
    "hop_length=0 # pulo entre cada frame\n",
    "n_mels= 50   # numero de filtros MEL\n",
    "n_mfcc= 15   # numero de coeficientes MFFC\n",
    "ofs_mfcc=2   # offset dado para não utilizar os primeiros coeficientes MFCC      \n",
    "\n",
    "fmin=100    # frequencia mínima do MFCC\n",
    "fmax=4000   # frequencia máxima do MFCC\n",
    "\n",
    "n_frames_MFCC = 15 # numero de frames MFCC que será usado para o reconhecimento.\n",
    "\n",
    "frame_len = (n_frames_MFCC-1)*n_fft # tamanho do frame recortado para cada entrada\n",
    "frame_lenD2 = int(frame_len/2) # tamanho do frame dividido por 2"
   ]
  },
  {
   "cell_type": "markdown",
   "metadata": {},
   "source": [
    "# Extração de _features_\n",
    "\n",
    "Nesta etapa é extraido as _features_ dos exemplos de áudio do _dataset_ **DARPA TIMIT**\n",
    "\n",
    "1. Inicialmente, é gerado as pastas que serão armazenadas as _features_\n",
    "\n",
    "2. Na sequência, é percorrido, através de um ```for```, todas as pastas do _dataset_ **DARPA TIMIT**\n",
    "\n",
    "3. Posteriormente, é analisado cada arquivo _.WRD_, encontrando exemplos da _keyword_ escolhida através do parâmetro ```KEYWORD```. Em cada exemplo, é extraido dos arquivos _.WAV_ os trechos correspondentes a _keyword_ e realizada a extração dos MFCCs do exemplo.\n",
    "\n",
    "4. Agora, de forma aleatória, é escolhido ```OOV_N``` exemplos de OOV de cada arquivo de áudio.\n",
    "\n",
    "5. Finalmente, são salvas as listas que contém as _features_, as matrizes MFCC (OOV e KW), que serão utilizadas no treinamento da rede neural.\n",
    "\n"
   ]
  },
  {
   "cell_type": "code",
   "execution_count": 216,
   "metadata": {},
   "outputs": [
    {
     "name": "stdout",
     "output_type": "stream",
     "text": [
      "Inicio em 1530731177.82393\n"
     ]
    }
   ],
   "source": [
    "DIR = (TRAIN_DIR_TIMIT, TRAIN_DIR_KW, TRAIN_DIR_OOV)\n",
    "\n",
    "# se nao existe, gera as pastas\n",
    "if not os.path.isdir(DIR[1]):\n",
    "    os.makedirs(DIR[1])\n",
    "if not os.path.isdir(DIR[2]):\n",
    "    os.makedirs(DIR[2])\n",
    "\n",
    "# declara as variaveis utilizadas no laço\n",
    "start = time.time()\n",
    "print('Inicio em', start)\n",
    "wrd_list = []\n",
    "# 2. percorre por todos os arquivos de audio do dataset\n",
    "for path, dirs, files in os.walk(DIR[0]):\n",
    "    for file in files:\n",
    "        # encontra os arquivos .WRD\n",
    "        if file.endswith('WRD'):\n",
    "            # .wav\n",
    "            fullFileName = os.path.join(path, file)\n",
    "            fnameNoSuffix = os.path.splitext(fullFileName)[0]\n",
    "\n",
    "            # abre o arquvo .WRD\n",
    "            text = open(fullFileName,'r')\n",
    "            for line in text.read().splitlines():\n",
    "                word = line.split(' ')[2] # adquire a terceira palavra da linha\n",
    "                wrd_list.append(word) # armazena em uma word list"
   ]
  },
  {
   "cell_type": "code",
   "execution_count": 217,
   "metadata": {},
   "outputs": [
    {
     "data": {
      "text/plain": [
       "572"
      ]
     },
     "execution_count": 217,
     "metadata": {},
     "output_type": "execute_result"
    }
   ],
   "source": [
    "len([i for i, x in enumerate(wrd_list) if x == \"she\"])"
   ]
  },
  {
   "cell_type": "code",
   "execution_count": 218,
   "metadata": {},
   "outputs": [],
   "source": [
    "def extract_MFCC_TIMIT(typeDIR='train'):\n",
    "    if typeDIR=='train':\n",
    "        DIR = (TRAIN_DIR_TIMIT, TRAIN_DIR_KW, TRAIN_DIR_OOV, TRAIN_DIR_KW_SMP)\n",
    "    else:\n",
    "        DIR = (TEST_DIR_TIMIT, TEST_DIR_KW, TEST_DIR_OOV, TEST_DIR_KW_SMP)\n",
    "    # 1.\n",
    "    # se nao existe, gera as pastas\n",
    "    if not os.path.isdir(DIR[1]):\n",
    "        os.makedirs(DIR[1])\n",
    "    if not os.path.isdir(DIR[2]):\n",
    "        os.makedirs(DIR[2])\n",
    "    if not os.path.isdir(DIR[3]):\n",
    "        os.makedirs(DIR[3])\n",
    "\n",
    "    # declara as variaveis utilizadas no laço\n",
    "    start = time.time()\n",
    "    print('Inicio em', start)\n",
    "    cnt = 0\n",
    "    wrd_list = []\n",
    "    cnt_kw = 0\n",
    "    cnt_oov = 0\n",
    "    OOV_N = 5\n",
    "    cnt_dirs = 0\n",
    "    kw_MFCC = []\n",
    "    oov_MFCC = []\n",
    "#     kw_lines = []\n",
    "\n",
    "    f = open(DIR[3] + '/kwds.txt','w')\n",
    "    \n",
    "    # 2. percorre por todos os arquivos de audio do dataset\n",
    "    for path, dirs, files in os.walk(DIR[0]):\n",
    "    #     kw_MFCC = []\n",
    "    #     oov_MFCC = []\n",
    "        for file in files:\n",
    "            # encontra os arquivos .WRD\n",
    "            if file.endswith('WRD'):\n",
    "                # .wav\n",
    "                fullFileName = os.path.join(path, file)\n",
    "                fnameNoSuffix = os.path.splitext(fullFileName)[0]\n",
    "\n",
    "                [data_file, _] = librosa.load(fnameNoSuffix + '.WAV', sr=fs) # Lê todo o arquivo de audio\n",
    "                N = data_file.shape[0]  # indica o tamanho do arquivo\n",
    "\n",
    "                # abre o arquvo .WRD\n",
    "                text = open(fullFileName,'r')\n",
    "                have_KW = False\n",
    "                center = 1e12\n",
    "                # 3.\n",
    "                # no arquivo .WRD, le todas as linhas\n",
    "                for line in text.read().splitlines():\n",
    "                    word = line.split(' ')[2] # adquire a terceira palavra da linha\n",
    "                    wrd_list.append(word) # armazena em uma word list\n",
    "\n",
    "                    # se encontrar uma keyword\n",
    "                    if word == KEYWORD:\n",
    "#                         kw_lines.append(line+' '+fnameNoSuffix + '.WAV')\n",
    "                        f.write(line+' '+fnameNoSuffix + '.WAV'+'\\n')\n",
    "                        # encontra o centro da keyword\n",
    "                        center = int((int(line.split(' ')[0]) + int(line.split(' ')[1]))/2)\n",
    "                        have_KW = True\n",
    "\n",
    "                        # verifica se os o frame está dentro dos limites do arquivo de audio\n",
    "                        # e extrai o trecho de audio contendo a KW\n",
    "                        if center < frame_lenD2:\n",
    "                            frameSample = np.concatenate((np.zeros(frame_lenD2-center), data_file[0:center+frame_lenD2]))\n",
    "                        else:\n",
    "                            frameSample = data_file[center-frame_lenD2:center+frame_lenD2]\n",
    "\n",
    "                        # extrai os MFCCs do trecho contendo a KW\n",
    "                        MFCCsample = librosa.feature.mfcc(y=frameSample, sr=fs, fmin=fmin, fmax=fmax, \n",
    "                                                             n_mfcc=n_mfcc, n_mels=n_mels, n_fft=n_fft)\n",
    "\n",
    "                        # armazena em uma lista\n",
    "                        kw_MFCC.append(MFCCsample[ofs_mfcc:])\n",
    "                        # conta o numero de trechos MFCC KW extraidos\n",
    "                        cnt_kw+=1\n",
    "                        if cnt_kw<=20:\n",
    "                            wavwrite(DIR[3]+'/framesKW'+str(cnt_kw)+'.wav', fs, frameSample)\n",
    "\n",
    "                # 4.\n",
    "                # executa o laco OOV_N vezes \n",
    "                for p in range(OOV_N):\n",
    "                    goodId = False\n",
    "                    while goodId == False:\n",
    "                        # escolhe um indice aleatorio para centro do trecho OOV \n",
    "                        # dentro do arquivo de audio\n",
    "                        idx = np.random.randint(N-frame_len)+frame_lenD2 # gera numero aleatorio\n",
    "                        goodId = True\n",
    "\n",
    "    #                     for j in range(len(center)): # analisa o indice criado com os indices das kw\n",
    "    #                         if abs(idx-iAbre[i][j]) < frame_len:\n",
    "    #                             goodId = False\n",
    "\n",
    "                        # se bater com o trecho da KW, escolhe outro\n",
    "                        if abs(idx-center) < frame_len:\n",
    "                            goodId = False\n",
    "\n",
    "                        # extrai o trecho de audio\n",
    "                        frameSample = data_file[idx-frame_lenD2:idx+frame_lenD2]\n",
    "\n",
    "                        # extrai os MFCCs\n",
    "                        MFCCsample = librosa.feature.mfcc(y=frameSample, sr=fs, fmin=fmin, fmax=fmax, \n",
    "                                                             n_mfcc=n_mfcc, n_mels=n_mels, n_fft=n_fft)\n",
    "\n",
    "                        # salva em uma lista\n",
    "                        oov_MFCC.append(MFCCsample[ofs_mfcc:])\n",
    "\n",
    "                        # conta o numero de trechos MFCC OOV extraidos\n",
    "                        cnt_oov+=1\n",
    "    \n",
    "    [data_file, _] = librosa.load('../Exemplos_outros/ruido.wav', sr=fs)\n",
    "    N = data_file.shape[0]\n",
    "    for i in range(10000):\n",
    "        idx = np.random.randint(N-frame_len)+frame_lenD2\n",
    "        \n",
    "        frameSample = data_file[idx-frame_lenD2:idx+frame_lenD2]\n",
    "        \n",
    "        # extrai os MFCCs\n",
    "        MFCCsample = librosa.feature.mfcc(y=frameSample, sr=fs, fmin=fmin, fmax=fmax, \n",
    "                                             n_mfcc=n_mfcc, n_mels=n_mels, n_fft=n_fft)\n",
    "\n",
    "\n",
    "        oov_MFCC.append(MFCCsample[ofs_mfcc:])\n",
    "    \n",
    "#                 if cnt_oov > 200:\n",
    "#                     break\n",
    "#         if cnt_oov > 200:\n",
    "#             break\n",
    "\n",
    "    #     cnt_dirs += 1\n",
    "    #     if cnt_dirs == 10:\n",
    "    #         break\n",
    "\n",
    "    #     if  kw_MFCC != []:\n",
    "    #         featFileName = os.path.join(DIR[1], fnameNoSuffix.split(os.sep)[-2] + '-' + fnameNoSuffix.split(os.sep)[-1] + '.npy')\n",
    "    #     #     featFileName = os.path.join(DIR[1], 'KW_MFCCs.npy')\n",
    "    #         np.save(featFileName, kw_MFCC)\n",
    "\n",
    "    #     featFileName = os.path.join(DIR[2], fnameNoSuffix.split(os.sep)[-2] + '-' + fnameNoSuffix.split(os.sep)[-1] + '.npy')\n",
    "    #     #     featFileName = os.path.join(DIR[2], 'OOV_MFCCs.npy')\n",
    "    #     np.save(featFileName, oov_MFCC)\n",
    "\n",
    "    ##### Salva os arquivos e imprimi a duração da extração dos MFCC do dataset\n",
    "#     file.write('\\n'.join([item for item in kw_lines]))\n",
    "    f.close()\n",
    "    # featFileName = os.path.join(DIR[1], fnameNoSuffix.split(os.sep)[-2] + '-' + fnameNoSuffix.split(os.sep)[-1] + '.npy')\n",
    "    featFileName = os.path.join(DIR[1], 'KW_MFCCs.npy')\n",
    "    np.save(featFileName, kw_MFCC)\n",
    "\n",
    "    # featFileName = os.path.join(DIR[2], fnameNoSuffix.split(os.sep)[-2] + '-' + fnameNoSuffix.split(os.sep)[-1] + '.npy')\n",
    "    featFileName = os.path.join(DIR[2], 'OOV_MFCCs.npy')\n",
    "    np.save(featFileName, oov_MFCC)\n",
    "\n",
    "    fim = time.time()\n",
    "    print('Fim em', fim)\n",
    "    print('\\n{}: \\n\\nKW examples: {}\\nOOV examples: {}\\n\\nduration: {:.0f}s'.format(typeDIR, cnt_kw, cnt_oov, (time.time()-start)))"
   ]
  },
  {
   "cell_type": "code",
   "execution_count": 219,
   "metadata": {},
   "outputs": [
    {
     "name": "stdout",
     "output_type": "stream",
     "text": [
      "Inicio em 1530731179.6463299\n",
      "Fim em 1530732460.9701998\n",
      "\n",
      "train: \n",
      "\n",
      "KW examples: 572\n",
      "OOV examples: 23757\n",
      "\n",
      "duration: 1281s\n"
     ]
    }
   ],
   "source": [
    "extract_MFCC_TIMIT(typeDIR='train')"
   ]
  },
  {
   "cell_type": "code",
   "execution_count": 17,
   "metadata": {},
   "outputs": [
    {
     "name": "stdout",
     "output_type": "stream",
     "text": [
      "Inicio em 1530716430.4238515\n",
      "Fim em 1530716622.2402499\n",
      "\n",
      "test: \n",
      "\n",
      "KW examples: 208\n",
      "OOV examples: 8686\n",
      "\n",
      "duration: 192s\n"
     ]
    }
   ],
   "source": [
    "extract_MFCC_TIMIT(typeDIR='test')"
   ]
  },
  {
   "cell_type": "code",
   "execution_count": 220,
   "metadata": {},
   "outputs": [],
   "source": [
    "kw_MFCC = np.load(os.path.join(TRAIN_DIR_KW, 'KW_MFCCs.npy'))"
   ]
  },
  {
   "cell_type": "code",
   "execution_count": 221,
   "metadata": {},
   "outputs": [],
   "source": [
    "oov_MFCC = np.load(os.path.join(TRAIN_DIR_OOV, 'OOV_MFCCs.npy'))"
   ]
  },
  {
   "cell_type": "markdown",
   "metadata": {},
   "source": [
    "### Exemplos\n",
    "\n",
    "As figuras abaixo apresentam exemplos das matrizes MFCC, as _features_, geradas na etapa anterior"
   ]
  },
  {
   "cell_type": "code",
   "execution_count": 222,
   "metadata": {},
   "outputs": [
    {
     "name": "stdout",
     "output_type": "stream",
     "text": [
      "\n",
      "Aqui é apresentado a matriz MFCC da keyword numero 100 \n",
      "\n",
      "\n"
     ]
    },
    {
     "data": {
      "text/plain": [
       "<matplotlib.image.AxesImage at 0x7f662ab4b080>"
      ]
     },
     "execution_count": 222,
     "metadata": {},
     "output_type": "execute_result"
    },
    {
     "data": {
      "image/png": "[encoded data removed]",
      "text/plain": [
       "<Figure size 432x288 with 1 Axes>"
      ]
     },
     "metadata": {},
     "output_type": "display_data"
    }
   ],
   "source": [
    "i=100\n",
    "print('\\nAqui é apresentado a matriz MFCC da keyword numero', i, '\\n\\n')\n",
    "\n",
    "plt.imshow(kw_MFCC[i])"
   ]
  },
  {
   "cell_type": "code",
   "execution_count": 223,
   "metadata": {},
   "outputs": [
    {
     "name": "stdout",
     "output_type": "stream",
     "text": [
      "\n",
      "Aqui é apresentado a matriz MFCC da OOV numero 40 \n",
      "\n",
      "\n"
     ]
    },
    {
     "data": {
      "text/plain": [
       "<matplotlib.image.AxesImage at 0x7f664d2a0048>"
      ]
     },
     "execution_count": 223,
     "metadata": {},
     "output_type": "execute_result"
    },
    {
     "data": {
      "image/png": "[encoded data removed]",
      "text/plain": [
       "<Figure size 432x288 with 1 Axes>"
      ]
     },
     "metadata": {},
     "output_type": "display_data"
    }
   ],
   "source": [
    "i=40\n",
    "print('\\nAqui é apresentado a matriz MFCC da OOV numero', i, '\\n\\n')\n",
    "\n",
    "plt.imshow(oov_MFCC[i])"
   ]
  },
  {
   "cell_type": "markdown",
   "metadata": {},
   "source": [
    "## _Split Data_\n",
    "\n",
    "A função abaixo é utilizada para embaralhar e separar o conjunto de dados. \n",
    "Neste trabalho, é utilizada apenas para para embaralhar o conjunto de treinamento. "
   ]
  },
  {
   "cell_type": "code",
   "execution_count": 224,
   "metadata": {},
   "outputs": [],
   "source": [
    "def splitData(x, y, p=0.2): \n",
    "    shapeInX = x.shape\n",
    "    shapeInY = y.shape\n",
    "    datax = x.reshape(shapeInX[0],-1)\n",
    "    \n",
    "    data = np.concatenate((datax, y), axis=1)\n",
    "    # random.randint(0, int(x.shape[0]*(1-p)))\n",
    "    xScrambled = np.random.permutation(data)\n",
    "    nLines = xScrambled.shape[0]\n",
    "\n",
    "    data_train = xScrambled[0:int(round(nLines*(1-p))), :]\n",
    "    data_test = xScrambled[int(round(nLines*(1-p))):, :]\n",
    "#     print(nLines)\n",
    "#     print(data_train.shape)\n",
    "    \n",
    "    shape_train = np.asarray(shapeInX)\n",
    "    shape_train[0] = data_train.shape[0]\n",
    "    x_train = data_train[:,:data_train.shape[1]-shapeInY[1]].reshape(tuple(shape_train))\n",
    "    y_train = data_train[:,[data_train.shape[1]-shapeInY[1]]]\n",
    "    \n",
    "    \n",
    "    shape_test = np.asarray(shapeInX)\n",
    "    shape_test[0] = data_test.shape[0]\n",
    "    x_test = data_test[:,:data_test.shape[1]-shapeInY[1]].reshape(tuple(shape_test))\n",
    "    y_test = data_test[:,data_test.shape[1]-shapeInY[1]:]\n",
    "    \n",
    "    \n",
    "    return (x_train, y_train), (x_test, y_test)\n"
   ]
  },
  {
   "cell_type": "markdown",
   "metadata": {},
   "source": [
    "Embaralha o conjunto as _features_ OOV e KW para gerar os dados de treinamento: ```(x_train, y_train)```"
   ]
  },
  {
   "cell_type": "code",
   "execution_count": 225,
   "metadata": {},
   "outputs": [
    {
     "name": "stdout",
     "output_type": "stream",
     "text": [
      "(6144, 13, 15, 1)\n"
     ]
    }
   ],
   "source": [
    "OOV_uses = 5000\n",
    "oov_MFCC = oov_MFCC[:OOV_uses]\n",
    "\n",
    "y_OOV = np.zeros((len(oov_MFCC),  1))\n",
    "y_KW = np.ones((len(kw_MFCC),  1))\n",
    "\n",
    "(x_train, y_train), _ = splitData(\n",
    "            np.concatenate((np.array(kw_MFCC), \n",
    "                           np.array(kw_MFCC), np.array(oov_MFCC)), axis=0), \n",
    "            np.concatenate((np.array(y_KW), \n",
    "                           np.array(y_KW), np.array(y_OOV)), axis=0), p=0)\n",
    "\n",
    "x_train = x_train.reshape(x_train.shape[0],x_train.shape[1],x_train.shape[2],1)\n",
    "# print(y_train[:300])\n",
    "print(x_train.shape)"
   ]
  },
  {
   "cell_type": "markdown",
   "metadata": {},
   "source": [
    "## Rede Neural Convolucional\n",
    "\n",
    "É utilizado neste trabalho uma Rede Neural Convolucional para classificar as _keywords_ e as OOVs.\n",
    "\n",
    "Em [9] é explorado o uso de _convolutional neural networks_ (CNN)\n",
    "em sistemas de _keyword spotting_. É apresentado um ganho relativo\n",
    "de 27-44% de _false reject rate_ comparado com _dense neural networks_\n",
    "(DNN). Tais comparações foram realizadas observando o número de\n",
    "parâmetros e multiplicações realizadas, mostrando que as CNNs utilizam muito menos parâmetros e multiplicações."
   ]
  },
  {
   "cell_type": "code",
   "execution_count": 226,
   "metadata": {},
   "outputs": [
    {
     "name": "stdout",
     "output_type": "stream",
     "text": [
      "(13, 15, 1)\n"
     ]
    }
   ],
   "source": [
    "import keras\n",
    "from keras.layers import Conv2D, MaxPooling2D, Input, Dense, Flatten, Dropout\n",
    "from keras.models import Sequential\n",
    "\n",
    "input_shape = x_train.shape[1:]\n",
    "num_classes = 2\n",
    "\n",
    "print(input_shape)\n",
    "y_train_ce = keras.utils.to_categorical(y_train.reshape(-1), num_classes)"
   ]
  },
  {
   "cell_type": "markdown",
   "metadata": {},
   "source": [
    "### Criação do Modelo\n",
    "\n",
    "Abaixo é declarada a estrutura do modelo da Rede Neural que será utilizada. \n",
    "\n",
    "O Sumário do modelo da rede é apresentado na sequência"
   ]
  },
  {
   "cell_type": "code",
   "execution_count": 227,
   "metadata": {},
   "outputs": [
    {
     "name": "stdout",
     "output_type": "stream",
     "text": [
      "************************ SUMÁRIO DA REDE ************************\n",
      "\n",
      "\n",
      "_________________________________________________________________\n",
      "Layer (type)                 Output Shape              Param #   \n",
      "=================================================================\n",
      "conv2d_18 (Conv2D)           (None, 9, 13, 7)          112       \n",
      "_________________________________________________________________\n",
      "conv2d_19 (Conv2D)           (None, 6, 12, 10)         570       \n",
      "_________________________________________________________________\n",
      "max_pooling2d_12 (MaxPooling (None, 3, 6, 10)          0         \n",
      "_________________________________________________________________\n",
      "conv2d_20 (Conv2D)           (None, 2, 5, 10)          410       \n",
      "_________________________________________________________________\n",
      "flatten_12 (Flatten)         (None, 100)               0         \n",
      "_________________________________________________________________\n",
      "dense_12 (Dense)             (None, 2)                 202       \n",
      "=================================================================\n",
      "Total params: 1,294\n",
      "Trainable params: 1,294\n",
      "Non-trainable params: 0\n",
      "_________________________________________________________________\n"
     ]
    }
   ],
   "source": [
    "model = Sequential()\n",
    "model.add(Conv2D(7, kernel_size=(5, 3), strides=(1, 1),\n",
    "                 activation='relu',\n",
    "                 input_shape=input_shape))\n",
    "# model.add(Conv2D(4, kernel_size=(3, 4), strides=(1, 1),\n",
    "#                  activation='relu'))\n",
    "# model.add(Conv2D(3, kernel_size=(2, 4), strides=(1, 1),\n",
    "#                  activation='relu'))\n",
    "# model.add(Conv2D(3, kernel_size=(2, 4), strides=(1, 1),\n",
    "#                  activation='relu'))\n",
    "model.add(Conv2D(10, kernel_size=(4, 2), strides=(1, 1),\n",
    "                 activation='relu'))\n",
    "model.add(MaxPooling2D(pool_size=(2, 2), strides=(2, 2)))\n",
    "model.add(Conv2D(10, kernel_size=(2, 2), strides=(1, 1),\n",
    "                 activation='relu'))\n",
    "# model.add(Conv2D(2, kernel_size=(2, 4), strides=(1, 1),\n",
    "#                  activation='relu',\n",
    "#                  input_shape=input_shape))\n",
    "# model.add(MaxPooling2D(pool_size=(2, 2), strides=(2, 2)))\n",
    "# model.add(Conv2D(4, (2, 2), activation='relu'))\n",
    "# model.add(MaxPooling2D(pool_size=(2, 2)))\n",
    "model.add(Flatten())\n",
    "# model.add(Dense(10, activation='relu'))\n",
    "model.add(Dense(num_classes, activation='softmax'))\n",
    "\n",
    "model.compile(loss='categorical_crossentropy',\n",
    "              optimizer='adam',\n",
    "              metrics=['accuracy'])\n",
    "\n",
    "print('************************ SUMÁRIO DA REDE ************************\\n\\n')\n",
    "model.summary()"
   ]
  },
  {
   "cell_type": "code",
   "execution_count": 228,
   "metadata": {},
   "outputs": [
    {
     "name": "stdout",
     "output_type": "stream",
     "text": [
      "Train on 5529 samples, validate on 615 samples\n",
      "Epoch 1/10\n",
      " - 2s - loss: 0.4210 - acc: 0.8633 - val_loss: 0.2527 - val_acc: 0.9333\n",
      "Epoch 2/10\n",
      " - 1s - loss: 0.1741 - acc: 0.9497 - val_loss: 0.1450 - val_acc: 0.9577\n",
      "Epoch 3/10\n",
      " - 1s - loss: 0.1268 - acc: 0.9638 - val_loss: 0.1183 - val_acc: 0.9610\n",
      "Epoch 4/10\n",
      " - 1s - loss: 0.0991 - acc: 0.9716 - val_loss: 0.1029 - val_acc: 0.9691\n",
      "Epoch 5/10\n",
      " - 1s - loss: 0.0847 - acc: 0.9763 - val_loss: 0.1070 - val_acc: 0.9724\n",
      "Epoch 6/10\n",
      " - 1s - loss: 0.0733 - acc: 0.9790 - val_loss: 0.1138 - val_acc: 0.9724\n",
      "Epoch 7/10\n",
      " - 1s - loss: 0.0705 - acc: 0.9799 - val_loss: 0.0821 - val_acc: 0.9789\n",
      "Epoch 8/10\n",
      " - 1s - loss: 0.0612 - acc: 0.9826 - val_loss: 0.0751 - val_acc: 0.9821\n",
      "Epoch 9/10\n",
      " - 1s - loss: 0.0560 - acc: 0.9846 - val_loss: 0.0741 - val_acc: 0.9837\n",
      "Epoch 10/10\n",
      " - 1s - loss: 0.0506 - acc: 0.9863 - val_loss: 0.0734 - val_acc: 0.9837\n",
      "\n",
      "Neural Network Trained! \n",
      "\n",
      "\n"
     ]
    }
   ],
   "source": [
    "class_weight = {0: 1.,\n",
    "                1: 2.}\n",
    "\n",
    "history = model.fit(x_train, y_train_ce,\n",
    "          validation_split=0.1,\n",
    "          epochs=10,\n",
    "          batch_size=128,\n",
    "          class_weight=class_weight,\n",
    "          verbose=2,\n",
    "                   )\n",
    "print('\\nNeural Network Trained! \\n\\n')\n"
   ]
  },
  {
   "cell_type": "markdown",
   "metadata": {},
   "source": [
    "## Analise do desempenho \n",
    "\n",
    "Neste etapa, é analisado o desempenho da rede neural utilizando o conjunto de teste."
   ]
  },
  {
   "cell_type": "code",
   "execution_count": 229,
   "metadata": {},
   "outputs": [],
   "source": [
    "kw_MFCC2 = np.load(os.path.join(TEST_DIR_KW, 'KW_MFCCs.npy'))\n",
    "oov_MFCC2 = np.load(os.path.join(TEST_DIR_OOV, 'OOV_MFCCs.npy'))\n",
    "\n",
    "y_OOV = np.zeros((len(oov_MFCC2),  1))\n",
    "y_KW = np.ones((len(kw_MFCC2),  1))\n",
    "\n",
    "x_KW = np.array(kw_MFCC2)\n",
    "x_OOV = np.array(oov_MFCC2)\n",
    "\n",
    "x_KW = x_KW.reshape(x_KW.shape[0],x_KW.shape[1],x_KW.shape[2],1)\n",
    "x_OOV = x_OOV.reshape(x_OOV.shape[0],x_OOV.shape[1],x_OOV.shape[2],1)\n",
    "\n",
    "(x_test, y_test), _ = splitData(\n",
    "            np.concatenate((x_KW, x_OOV), axis=0), \n",
    "            np.concatenate((y_KW, y_OOV), axis=0), p=0)\n",
    "\n",
    "x_test = x_test\n",
    "\n",
    "y_test_ce = keras.utils.to_categorical(y_test.reshape(-1), num_classes)\n",
    "y_OOV_ce  = keras.utils.to_categorical(y_OOV.reshape(-1), num_classes)\n",
    "y_KW_ce   = keras.utils.to_categorical(y_KW.reshape(-1), num_classes)"
   ]
  },
  {
   "cell_type": "code",
   "execution_count": 230,
   "metadata": {},
   "outputs": [
    {
     "name": "stdout",
     "output_type": "stream",
     "text": [
      "208/208 [==============================] - 0s 168us/step\n",
      "8686/8686 [==============================] - 1s 145us/step\n",
      "\n",
      "Score True of model with test KW dataset: 95.67307692307693 %\n",
      "\n",
      "Score False of model with test OOV dataset: 98.0658530969376 %\n",
      "\n"
     ]
    }
   ],
   "source": [
    "scoreTrue = model.evaluate(x_KW, y_KW_ce)\n",
    "scoreFalse = model.evaluate(x_OOV, y_OOV_ce)\n",
    "\n",
    "print('\\nScore True of model with test KW dataset:', 100*scoreTrue[1],'%\\n')\n",
    "print('Score False of model with test OOV dataset:', 100*scoreFalse[1],'%\\n')"
   ]
  },
  {
   "cell_type": "markdown",
   "metadata": {},
   "source": [
    "## Teste usando um audio qualquer"
   ]
  },
  {
   "cell_type": "code",
   "execution_count": 262,
   "metadata": {},
   "outputs": [],
   "source": [
    "import scipy\n",
    "\n",
    "def testNetWith(file, model, stride=512):\n",
    "       \n",
    "# stride = 1000\n",
    "# file = '../Exemplos_outros/Henrique_abre.wav'\n",
    "    data_file, _ = librosa.load(file, sr=fs) # Lê todo o arquivo de audio\n",
    "    N = data_file.shape[0]\n",
    "    data_file = data_file/32767\n",
    "\n",
    "    data_pred_out = np.zeros(N)\n",
    "\n",
    "    center = 0\n",
    "    while(center<N):\n",
    "        MFCCsample = []\n",
    "        # verifica se os o frame está dentro dos limites do arquivo de audio\n",
    "        # e extrai o trecho de audio contendo a KW\n",
    "        if center < frame_lenD2:\n",
    "            frameSample = np.concatenate((np.zeros(frame_lenD2-center), data_file[0:center+frame_lenD2]))\n",
    "        elif (N-center) < frame_lenD2:\n",
    "            frameSample = np.concatenate((data_file[center-frame_lenD2:],np.zeros(frame_lenD2 - (N-center))))\n",
    "        else:\n",
    "            frameSample = data_file[center-frame_lenD2:center+frame_lenD2]\n",
    "        # frameSample.shape, frame_lenD2\n",
    "\n",
    "\n",
    "        MFCCsample.append(librosa.feature.mfcc(y=frameSample, sr=fs, fmin=fmin, fmax=fmax, \n",
    "                                     n_mfcc=n_mfcc, n_mels=n_mels, n_fft=n_fft)[ofs_mfcc:])\n",
    "\n",
    "        data_in = np.array(MFCCsample)#reshape(1,13,10,1)\n",
    "        data_in = data_in.reshape(data_in.shape[0], data_in.shape[1], data_in.shape[2], 1) \n",
    "\n",
    "        y_out = model.predict(data_in)\n",
    "\n",
    "        if (center+stride<=N):\n",
    "#             data_pred_out[center:center+stride] = y_out[0,1] \n",
    "#             data_pred_out[center:center+100] =  y_out[0,1] \n",
    "            data_pred_out[center] = y_out[0,1]#ound(y_out[0,1]) \n",
    "        else:\n",
    "#             data_pred_out[center:] =  y_out[0,1]\n",
    "#             data_pred_out[center] =  y_out[0,1]\n",
    "            data_pred_out[center] =  y_out[0,1]#ound(y_out[0,1])\n",
    "\n",
    "        center += stride        \n",
    "    \n",
    "    return data_pred_out"
   ]
  },
  {
   "cell_type": "markdown",
   "metadata": {},
   "source": [
    "### Teste em um sinal continuo\n",
    "\n",
    "Neste teste, é realizada a classificação, analisando um passo dado pelo ```stride```\n",
    "\n",
    "PS: não é utilizado filtro de _smoothing_ para melhorar a detecção"
   ]
  },
  {
   "cell_type": "code",
   "execution_count": 263,
   "metadata": {},
   "outputs": [],
   "source": [
    "file = '../Exemplos_outros/she_natan3.wav'\n",
    "data_ex = testNetWith(file, model, stride=128)"
   ]
  },
  {
   "cell_type": "code",
   "execution_count": 272,
   "metadata": {},
   "outputs": [
    {
     "data": {
      "text/plain": [
       "[<matplotlib.lines.Line2D at 0x7f662a5d6fd0>,\n",
       " <matplotlib.lines.Line2D at 0x7f662a5e0160>]"
      ]
     },
     "execution_count": 272,
     "metadata": {},
     "output_type": "execute_result"
    },
    {
     "data": {
      "image/png": "[encoded data removed]",
      "text/plain": [
       "<Figure size 432x288 with 1 Axes>"
      ]
     },
     "metadata": {},
     "output_type": "display_data"
    }
   ],
   "source": [
    "data_file, _ = librosa.load(file, sr=fs) # Lê todo o arquivo de audio\n",
    "N = data_file.shape[0]\n",
    "\n",
    "data_file = data_file\n",
    "t = np.linspace(0,N/fs,N)\n",
    "\n",
    "data_ex = data_ex.round()\n",
    "data_ex_2 = np.convolve(data_ex, np.ones(4000)/128, 'same')\n",
    "\n",
    "data_ex_3 = np.zeros(N)\n",
    "data_ex_3[data_ex_2>0.125] = data_ex_2[data_ex_2>0.125]\n",
    "\n",
    "look = [0,\n",
    "        400000]\n",
    "\n",
    "plt.plot(t[look[0]:look[1]], data_ex[look[0]:look[1]], 'r', \n",
    "          t[look[0]:look[1]], data_file[look[0]:look[1]], 'b')"
   ]
  },
  {
   "cell_type": "markdown",
   "metadata": {},
   "source": [
    "#### Utilizando filtro de _Smoothing_\n",
    "\n",
    "Neste teste, é realizada a classificação, analisando um passo dado pelo ```stride```, mas agora utilizando filtro de _smoothing_ para melhorar a detecção."
   ]
  },
  {
   "cell_type": "code",
   "execution_count": 275,
   "metadata": {},
   "outputs": [
    {
     "data": {
      "text/plain": [
       "[<matplotlib.lines.Line2D at 0x7f662a473f28>,\n",
       " <matplotlib.lines.Line2D at 0x7f662a47c0b8>]"
      ]
     },
     "execution_count": 275,
     "metadata": {},
     "output_type": "execute_result"
    },
    {
     "data": {
      "image/png": "[encoded data removed]",
      "text/plain": [
       "<Figure size 432x288 with 1 Axes>"
      ]
     },
     "metadata": {},
     "output_type": "display_data"
    }
   ],
   "source": [
    "tres = 0.125\n",
    "data_ex_2 = np.convolve(data_ex, np.ones(4000)/128, 'same')\n",
    "\n",
    "data_ex_3 = np.zeros(N)\n",
    "data_ex_3[data_ex_2>tres] = 1\n",
    "\n",
    "\n",
    "look = [0,\n",
    "        400000]\n",
    "\n",
    "plt.plot(t[look[0]:look[1]], data_ex_3[look[0]:look[1]], 'r', \n",
    "          t[look[0]:look[1]], data_file[look[0]:look[1]], 'b')"
   ]
  },
  {
   "cell_type": "markdown",
   "metadata": {},
   "source": [
    "## Usando _dataset_ em portugues"
   ]
  },
  {
   "cell_type": "code",
   "execution_count": 135,
   "metadata": {},
   "outputs": [
    {
     "data": {
      "text/html": [
       "<div>\n",
       "<style scoped>\n",
       "    .dataframe tbody tr th:only-of-type {\n",
       "        vertical-align: middle;\n",
       "    }\n",
       "\n",
       "    .dataframe tbody tr th {\n",
       "        vertical-align: top;\n",
       "    }\n",
       "\n",
       "    .dataframe thead th {\n",
       "        text-align: right;\n",
       "    }\n",
       "</style>\n",
       "<table border=\"1\" class=\"dataframe\">\n",
       "  <thead>\n",
       "    <tr style=\"text-align: right;\">\n",
       "      <th></th>\n",
       "      <th>Unnamed: 0</th>\n",
       "      <th>type</th>\n",
       "      <th>recOOV</th>\n",
       "      <th>file</th>\n",
       "      <th>idx_abre</th>\n",
       "      <th>Unnamed: 5</th>\n",
       "    </tr>\n",
       "  </thead>\n",
       "  <tbody>\n",
       "    <tr>\n",
       "      <th>0</th>\n",
       "      <td>0</td>\n",
       "      <td>MISC</td>\n",
       "      <td>100</td>\n",
       "      <td>Estevan_3.wav</td>\n",
       "      <td>[4730 76320 131880 180000 212000]</td>\n",
       "      <td>NaN</td>\n",
       "    </tr>\n",
       "    <tr>\n",
       "      <th>1</th>\n",
       "      <td>1</td>\n",
       "      <td>MISC</td>\n",
       "      <td>100</td>\n",
       "      <td>Marina_1.wav</td>\n",
       "      <td>[29450 106430 165400 214060 330190]</td>\n",
       "      <td>NaN</td>\n",
       "    </tr>\n",
       "    <tr>\n",
       "      <th>2</th>\n",
       "      <td>2</td>\n",
       "      <td>MISC</td>\n",
       "      <td>100</td>\n",
       "      <td>Marina_4.wav</td>\n",
       "      <td>[12170 82450 138570 180800 218120 280850 347250]</td>\n",
       "      <td>NaN</td>\n",
       "    </tr>\n",
       "    <tr>\n",
       "      <th>3</th>\n",
       "      <td>3</td>\n",
       "      <td>MISC</td>\n",
       "      <td>100</td>\n",
       "      <td>Marina_6.wav</td>\n",
       "      <td>[25130 57970 125860 199900 239820 277720 33808...</td>\n",
       "      <td>NaN</td>\n",
       "    </tr>\n",
       "    <tr>\n",
       "      <th>4</th>\n",
       "      <td>4</td>\n",
       "      <td>MISC</td>\n",
       "      <td>100</td>\n",
       "      <td>Natan_1.wav</td>\n",
       "      <td>[25670 107110 162700 208770 332250]</td>\n",
       "      <td>NaN</td>\n",
       "    </tr>\n",
       "  </tbody>\n",
       "</table>\n",
       "</div>"
      ],
      "text/plain": [
       "   Unnamed: 0  type  recOOV           file  \\\n",
       "0           0  MISC     100  Estevan_3.wav   \n",
       "1           1  MISC     100   Marina_1.wav   \n",
       "2           2  MISC     100   Marina_4.wav   \n",
       "3           3  MISC     100   Marina_6.wav   \n",
       "4           4  MISC     100    Natan_1.wav   \n",
       "\n",
       "                                            idx_abre  Unnamed: 5  \n",
       "0                  [4730 76320 131880 180000 212000]         NaN  \n",
       "1                [29450 106430 165400 214060 330190]         NaN  \n",
       "2   [12170 82450 138570 180800 218120 280850 347250]         NaN  \n",
       "3  [25130 57970 125860 199900 239820 277720 33808...         NaN  \n",
       "4                [25670 107110 162700 208770 332250]         NaN  "
      ]
     },
     "execution_count": 135,
     "metadata": {},
     "output_type": "execute_result"
    }
   ],
   "source": [
    "PATH_PORT_DATASET = '../Dataset_idx'\n",
    "CSV_DATASET = os.path.join(PATH_PORT_DATASET, 'Dataset_idx.csv') \n",
    "\n",
    "\n",
    "\n",
    "df = pd.read_csv(CSV_DATASET)\n",
    "df.head()"
   ]
  },
  {
   "cell_type": "markdown",
   "metadata": {},
   "source": [
    "## Formata as colunas de indexação em formatos de lista "
   ]
  },
  {
   "cell_type": "code",
   "execution_count": 136,
   "metadata": {},
   "outputs": [],
   "source": [
    "x = df['idx_abre']\n",
    "iAbre = {}\n",
    "for i in range(len(x)):\n",
    "    p = x[i]\n",
    "    p = p.replace('[','')\n",
    "    p = p.replace(']','')\n",
    "    \n",
    "    p = p.split(' ')\n",
    "#     print(p)\n",
    "    if p[0] != '':\n",
    "        iAbre[i] = list(map(int, p))\n",
    "    else:\n",
    "        iAbre[i] = list(map(int,[-1e9])) "
   ]
  },
  {
   "cell_type": "code",
   "execution_count": 137,
   "metadata": {},
   "outputs": [
    {
     "data": {
      "text/plain": [
       "[4730, 76320, 131880, 180000, 212000]"
      ]
     },
     "execution_count": 137,
     "metadata": {},
     "output_type": "execute_result"
    }
   ],
   "source": [
    "iAbre[0]"
   ]
  },
  {
   "cell_type": "markdown",
   "metadata": {},
   "source": [
    "## Definição das constantes\n",
    "\n",
    "Com índices de cada arquivo de audio para cada palavra-chave, temos o centro de cada _frame_ que conterá as respectivas palavras-chave. \n",
    "\n",
    "Então, agora é preciso configurar todos os parâmetros para extração de _feature_ para a entrada. \n",
    "Isso ocorre pois estes parâmetros alterarão os tamanhos de _frames_ que serão agora coletados para cada _keyword_   "
   ]
  },
  {
   "cell_type": "code",
   "execution_count": 138,
   "metadata": {},
   "outputs": [],
   "source": [
    "fs = 8000 # taxa de amostragem dos arquivos de audio\n",
    "\n",
    "n_fft= 512   # tamanho da FFT para extração dos MFCCs\n",
    "hop_length=0 # pulo entre cada frame\n",
    "n_mels= 50   # numero de filtros MEL\n",
    "n_mfcc= 15   # numero de coeficientes MFFC\n",
    "ofs_mfcc=2   # offset dado para não utilizar os primeiros coeficientes MFCC      \n",
    "\n",
    "fmin=100    # frequencia mínima do MFCC\n",
    "fmax=4000   # frequencia máxima do MFCC\n",
    "\n",
    "n_frames_MFCC = 10 # numero de frames MFCC que será usado para o reconhecimento.\n",
    "\n",
    "frame_len = (n_frames_MFCC-1)*n_fft # tamanho do frame recortado para cada entrada\n",
    "frame_lenD2 = int(frame_len/2) # tamanho do frame dividido por 2"
   ]
  },
  {
   "cell_type": "markdown",
   "metadata": {},
   "source": [
    "## Extração das _Features_ que contém a palavra-chave\n",
    "\n",
    "Agora que todas as constantes necessárias ja foram declaradas, é extraído de cada arquivo de áudio os _frames_ contendo a palavras-chave, conforme indexado por `iAbre[i]`.\n",
    "\n",
    "Após extraído tais _frames_, é realizado o cálculo do MFCC para a extração das _features_ de cada _frame_."
   ]
  },
  {
   "cell_type": "code",
   "execution_count": 139,
   "metadata": {},
   "outputs": [],
   "source": [
    "frameMFCC = {}\n",
    "kwFeat = {}\n",
    "for i in range(len(df['file'])):\n",
    "    wavstr = os.path.join(PATH_PORT_DATASET, df['file'][i])  # extrai a string contendo o nome do arquivo de audio\n",
    "    [_, data_file] = wavread(wavstr) # Lê todo o arquivo de audio\n",
    "\n",
    "    data_file = data_file/32767 # normaliza as amostras do  áudio para o range [-1,1]\n",
    "    N = data_file.shape[0]      # indica o tamanho do arquivo\n",
    "\n",
    "#     # quando necessário é plotado o áudio do arquivo \n",
    "#     t = np.linspace(0, N/fs, N)\n",
    "#     plt.plot(t, data_file)\n",
    "    for j in range(len(iAbre[i])): # para cada audio, retira os frames kw e as features\n",
    "        if iAbre[i][j] < 0:\n",
    "            break\n",
    "        \n",
    "        frameSample = data_file[iAbre[i][j]-frame_lenD2:iAbre[i][j]+frame_lenD2]\n",
    "        MFCCsample = librosa.feature.mfcc(y=frameSample, sr=fs, fmin=fmin, fmax=fmax, \n",
    "                                             n_mfcc=n_mfcc, n_mels=n_mels, n_fft=n_fft)\n",
    "\n",
    "        frameMFCC[j] = MFCCsample[ofs_mfcc:]\n",
    "    \n",
    "    kwFeat[i] = frameMFCC"
   ]
  },
  {
   "cell_type": "code",
   "execution_count": 140,
   "metadata": {},
   "outputs": [
    {
     "name": "stdout",
     "output_type": "stream",
     "text": [
      "number of keyword inputs: 106\n",
      "number of keyword test inputs: 16\n"
     ]
    },
    {
     "data": {
      "image/png": "[encoded data removed]",
      "text/plain": [
       "<Figure size 432x288 with 1 Axes>"
      ]
     },
     "metadata": {},
     "output_type": "display_data"
    }
   ],
   "source": [
    "lenKW_1 = 0\n",
    "for i in range(len(df['file'])):\n",
    "    if df['file'][i].find('Vitor') == -1:\n",
    "        for j in range(len(iAbre[i])):\n",
    "            if iAbre[i][j] < 0:\n",
    "                break\n",
    "            \n",
    "            lenKW_1=lenKW_1+1\n",
    "\n",
    "lenKW_1_test = 0\n",
    "for i in range(len(df['file'])):\n",
    "    if df['file'][i].find('Vitor') != -1:\n",
    "        for j in range(len(iAbre[i])):\n",
    "            if iAbre[i][j] < 0:\n",
    "                break\n",
    "            \n",
    "            lenKW_1_test=lenKW_1_test+1\n",
    "            \n",
    "print('number of keyword inputs:',lenKW_1)\n",
    "print('number of keyword test inputs:',lenKW_1_test)\n",
    "imgplot = plt.imshow(kwFeat[0][7])"
   ]
  },
  {
   "cell_type": "markdown",
   "metadata": {},
   "source": [
    "## Extração dos indices e das _Features_ _Out of Vocabulary_\n",
    "\n",
    "Para treinar a rede, é necessário utilizar exemplos do que não é as palavras-chave, chamadas de _Out Of Vocabulary Word_ (OOV _words_).\n",
    "Então, é indexado aleatoriamente trechos dos áudios contendo palavras OOV, para posteriormente a extração das _features_."
   ]
  },
  {
   "cell_type": "code",
   "execution_count": 142,
   "metadata": {},
   "outputs": [],
   "source": [
    "# OOV_lenght = 100 # gera OOV_length OutOfVoc frames por audio\n",
    "OOV_lenght = list(map(int,df['recOOV'])) # gera OOV_length OutOfVoc frames por audio\n",
    "iOOV = {}\n",
    "# iOOVk = np.zeros(OOV_lenght)\n",
    "\n",
    "for i in range(len(df['file'])):\n",
    "    wavstr =  os.path.join(PATH_PORT_DATASET, df['file'][i])  # extrai a string contendo o nome do arquivo de audio\n",
    "    [_, data_file] = wavread(wavstr) # Lê todo o arquivo de audio\n",
    "\n",
    "    data_file = data_file/32767 # normaliza as amostras do  áudio para o range [-1,1]\n",
    "    N = data_file.shape[0]      # indica o tamanho do arquivo\n",
    "#     print(N)\n",
    "    \n",
    "    iOOVk = np.zeros(OOV_lenght[i]*2)\n",
    "\n",
    "    for k in range(OOV_lenght[i]*2):\n",
    "        # tenta adquirir indices que indicam frames com Out Of Voc words\n",
    "        # de forma aleatoria\n",
    "        goodId = False\n",
    "        while goodId == False:\n",
    "            idx = np.random.randint(N-frame_len)+frame_lenD2 # gera numero aleatorio\n",
    "            goodId = True\n",
    "            for j in range(len(iAbre[i])): # analisa o indice criado com os indices das kw\n",
    "                if abs(idx-iAbre[i][j]) < frame_len:\n",
    "                    goodId = False\n",
    "        \n",
    "        iOOVk[k] = idx\n",
    "            \n",
    "    iOOV[i] = iOOVk.astype(int)"
   ]
  },
  {
   "cell_type": "markdown",
   "metadata": {},
   "source": [
    "### Gera arquivo de audio contendo os trechos OOV para analise"
   ]
  },
  {
   "cell_type": "code",
   "execution_count": 143,
   "metadata": {},
   "outputs": [],
   "source": [
    "i=2\n",
    "wavstr = os.path.join(PATH_PORT_DATASET, df['file'][i])  # extrai a string contendo o nome do arquivo de audio\n",
    "[_, data_file] = wavread(wavstr) # Lê todo o arquivo de audio\n",
    "\n",
    "data_file = data_file/32767 # normaliza as amostras do  áudio para o range [-1,1]\n",
    "N = data_file.shape[0]      # indica o tamanho do arquivo\n",
    "\n",
    "#     # quando necessário é plotado o áudio do arquivo \n",
    "#     t = np.linspace(0, N/fs, N)\n",
    "#     plt.plot(t, data_file)\n",
    "\n",
    "frameSample = np.zeros((frame_len,len(iOOV[i])))\n",
    "for j in range(len(iOOV[i])): # para cada audio, retira os frames kw e as features\n",
    "    frameSample[:,j] = data_file[iOOV[i][j]-frame_lenD2:iOOV[i][j]+frame_lenD2]\n",
    "\n",
    "frameSample = frameSample.T.reshape(-1)\n",
    "wavwrite('framesOOV.wav', fs, frameSample)"
   ]
  },
  {
   "cell_type": "markdown",
   "metadata": {},
   "source": [
    "### Extração das Features OOV"
   ]
  },
  {
   "cell_type": "code",
   "execution_count": 144,
   "metadata": {},
   "outputs": [],
   "source": [
    "frameMFCC = {}\n",
    "oovFeat = {}\n",
    "for i in range(len(df['file'])):\n",
    "    wavstr = os.path.join(PATH_PORT_DATASET, df['file'][i])  # extrai a string contendo o nome do arquivo de audio\n",
    "    [_, data_file] = wavread(wavstr) # Lê todo o arquivo de audio\n",
    "\n",
    "    data_file = data_file/32767 # normaliza as amostras do  áudio para o range [-1,1]\n",
    "    N = data_file.shape[0]      # indica o tamanho do arquivo\n",
    "\n",
    "#     # quando necessário é plotado o áudio do arquivo \n",
    "#     t = np.linspace(0, N/fs, N)\n",
    "#     plt.plot(t, data_file)\n",
    "    for j in range(len(iOOV[i])): # para cada audio, retira os frames kw e as features\n",
    "        frameSample = data_file[iOOV[i][j]-frame_lenD2:iOOV[i][j]+frame_lenD2]\n",
    "        \n",
    "        MFCCsample = librosa.feature.mfcc(y=frameSample, sr=fs, fmin=fmin, fmax=fmax, \n",
    "                                             n_mfcc=n_mfcc, n_mels=n_mels, n_fft=n_fft)\n",
    "        \n",
    "        frameMFCC[j] = MFCCsample[ofs_mfcc:]\n",
    "    \n",
    "    oovFeat[i] = frameMFCC"
   ]
  },
  {
   "cell_type": "code",
   "execution_count": 145,
   "metadata": {},
   "outputs": [
    {
     "name": "stdout",
     "output_type": "stream",
     "text": [
      "number of out-of-voc inputs: 4280\n",
      "number of out-of-voc test inputs: 640\n"
     ]
    },
    {
     "data": {
      "image/png": "[encoded data removed]",
      "text/plain": [
       "<Figure size 432x288 with 1 Axes>"
      ]
     },
     "metadata": {},
     "output_type": "display_data"
    }
   ],
   "source": [
    "lenOOV = 0\n",
    "for i in range(len(df['file'])):\n",
    "    if df['file'][i].find('Vitor') == -1:\n",
    "        for j in range(len(iOOV[i])):\n",
    "            lenOOV=lenOOV+1\n",
    "\n",
    "lenOOVtest = 0\n",
    "for i in range(len(df['file'])):\n",
    "    if df['file'][i].find('Vitor') != -1:\n",
    "        for j in range(len(iOOV[i])):\n",
    "            lenOOVtest=lenOOVtest+1\n",
    "            \n",
    "print('number of out-of-voc inputs:', lenOOV)\n",
    "print('number of out-of-voc test inputs:', lenOOVtest)\n",
    "\n",
    "imgplot = plt.imshow(oovFeat[0][99])"
   ]
  },
  {
   "cell_type": "markdown",
   "metadata": {},
   "source": [
    "# Preparando o _Data Array_\n",
    "\n",
    "Neste ponto é gerado _arrays_ para dados de treinamento e de teste.\n",
    "\n",
    "Para isso, é atribuido _arrays_ de elementos OOV e elementos KW, concatenados, embaralhados, e separados em dados de treinamento e de teste.   "
   ]
  },
  {
   "cell_type": "code",
   "execution_count": 146,
   "metadata": {},
   "outputs": [
    {
     "name": "stdout",
     "output_type": "stream",
     "text": [
      "Keyword Abre Array Shape: (106, 13, 10, 1)\n",
      "Out Of Voc Array Shape: (4280, 13, 10, 1)\n",
      "\n",
      "Concatenate Array Shape: (4386, 13, 10, 1)\n",
      "\n",
      "Train data shape: (3947, 13, 10, 1)\n",
      "Test data shape: (439, 13, 10, 1)\n",
      "\n",
      "counting of Truth keywords in Test Data: 6\n",
      "counting of OOV words in Test Data: 433\n"
     ]
    }
   ],
   "source": [
    "# gera os arrays OOV e KW, com suas respectivas labels\n",
    "x_OOV = np.zeros((lenOOV, oovFeat[0][0].shape[0], oovFeat[0][0].shape[1],1))\n",
    "x_KW_1 = np.zeros((lenKW_1, oovFeat[0][0].shape[0], oovFeat[0][0].shape[1],1))\n",
    "\n",
    "x_OOV_test = np.zeros((lenOOVtest, oovFeat[0][0].shape[0], oovFeat[0][0].shape[1],1))\n",
    "x_KW_1_test = np.zeros((lenKW_1_test, oovFeat[0][0].shape[0], oovFeat[0][0].shape[1],1))\n",
    "\n",
    "# y_OOV = np.concatenate((np.ones((lenOOV, 1)), np.zeros((lenOOV,  1))), axis=1)\n",
    "# y_KW_1 = np.concatenate((np.zeros((lenKW_1,  1)), np.ones((lenKW_1, 1))), axis=1)\n",
    "y_OOV = np.zeros((lenOOV,  1))\n",
    "y_KW_1 = np.ones((lenKW_1, 1))\n",
    "\n",
    "y_OOV_test = np.zeros((lenOOVtest,  1))\n",
    "y_KW_1_test = np.ones((lenKW_1_test, 1))\n",
    "\n",
    "k=0\n",
    "m=0\n",
    "for i in range(len(df['file'])):\n",
    "    if df['file'][i].find('Vitor') == -1:\n",
    "        for j in range(len(iOOV[i])): \n",
    "            x_OOV[k,:,:,0] = oovFeat[i][j]\n",
    "            k=k+1\n",
    "    else:\n",
    "        for j in range(len(iOOV[i])): \n",
    "            x_OOV_test[m,:,:,0] = oovFeat[i][j]\n",
    "            m=m+1\n",
    "        \n",
    "\n",
    "k=0\n",
    "m=0\n",
    "for i in range(len(df['file'])):\n",
    "    if df['file'][i].find('Vitor') == -1:\n",
    "        for j in range(len(iAbre[i])):\n",
    "            if iAbre[i][j] < 0:\n",
    "                break\n",
    "            x_KW_1[k,:,:,0] = kwFeat[i][j]\n",
    "            k=k+1\n",
    "    else:\n",
    "        for j in range(len(iAbre[i])): \n",
    "            if iAbre[i][j] < 0:\n",
    "                break\n",
    "                \n",
    "            x_KW_1_test[m,:,:,0] = kwFeat[i][j]\n",
    "            m=m+1\n",
    "\n",
    "print('Keyword Abre Array Shape:', x_KW_1.shape)\n",
    "print('Out Of Voc Array Shape:', x_OOV.shape)\n",
    "        \n",
    "x = np.concatenate((x_OOV, x_KW_1), axis=0)\n",
    "y = np.concatenate((y_OOV, y_KW_1), axis=0)\n",
    "\n",
    "print('\\nConcatenate Array Shape:', x.shape)\n",
    "\n",
    "# print(x.shape)\n",
    "# print(x_OOV.shape)\n",
    "# print(x_KW_1.shape)\n",
    "# print(y.shape)\n",
    "# print(y_OOV.shape)\n",
    "# print(y_KW_1.shape)\n",
    "\n",
    "(x_train, y_train), (x_test, y_test) = splitData(x, y, p=0.1)\n",
    "print('\\nTrain data shape:', x_train.shape)\n",
    "print('Test data shape:', x_test.shape)\n",
    "\n",
    "# print(x_train.shape)\n",
    "# print(y_train.shape)\n",
    "# print(x_test.shape)\n",
    "# print(y_test.shape)\n",
    "\n",
    "print('\\ncounting of Truth keywords in Test Data:', list(y_test[:]).count(1))\n",
    "print('counting of OOV words in Test Data:', list(y_test[:]).count(0))"
   ]
  },
  {
   "cell_type": "code",
   "execution_count": 147,
   "metadata": {},
   "outputs": [],
   "source": [
    "prepros_feat = [fs,# = 16000 # taxa de amostragem dos arquivos de audio\n",
    "                n_fft,#= 512   # tamanho da FFT para extração dos MFCCs\n",
    "                hop_length,#=0 # pulo entre cada frame\n",
    "                n_mels,#= 50   # numero de filtros MEL\n",
    "                n_mfcc,#= 16   # numero de coeficientes MFCC\n",
    "                ofs_mfcc,#=2   # offset dado para não utilizar os primeiros coeficientes MFCC      \n",
    "                fmin,#=100    # frequencia mínima do MFCC\n",
    "                fmax,#=4000   # frequencia máxima do MFCC\n",
    "                n_frames_MFCC,# = 10 # numero de frames MFCC que será usado para o reconhecimento.]\n",
    "                frame_len, #= (n_frames_MFCC-1)*n_fft # tamanho do frame recortado para cada entrada\n",
    "                frame_lenD2 #= int(frame_len/2) # tamanho do frame dividido por 2\n",
    "                ]\n",
    "\n",
    "Rede = {}\n",
    "Rede['preFeat'] = prepros_feat\n",
    "Rede['x_train'] = x_train\n",
    "Rede['y_train'] = y_train\n",
    "Rede['x_test'] = x_test\n",
    "Rede['y_test'] = y_test\n",
    "\n",
    "# Rede['Model'] = model\n",
    "# Rede['History'] = history\n",
    "# Rede = [prepros_feat, [x_train, y_train, x_test, y_test]]\n",
    "\n",
    "# pickle.dump( Rede, open( 'RedeTeste1.pickle', 'wb' ) )\n",
    "np.save(\"DataSet1.npy\", Rede)\n"
   ]
  },
  {
   "cell_type": "code",
   "execution_count": 277,
   "metadata": {},
   "outputs": [],
   "source": [
    "Rede = np.load(\"DataSet1.npy\").item()\n",
    "\n",
    "# prepros_feat \t= Rede['preFeat']  \n",
    "# x_train \t\t= Rede['x_train']\n",
    "# y_train\t\t\t= Rede['y_train'] \n",
    "# x_test \t\t\t= Rede['x_test'] \n",
    "# y_test \t\t\t= Rede['y_test']\n",
    "prepros_feat \t= Rede['preFeat']  \n",
    "x_train \t\t= Rede['x_train']\n",
    "y_train\t\t\t= Rede['y_train'] \n",
    "x_test \t\t\t= Rede['x_test'] \n",
    "y_test \t\t\t= Rede['y_test']\n",
    "\n",
    "fs = prepros_feat[0] # = 16000 # taxa de amostragem dos arquivos de audio\n",
    "n_fft = prepros_feat[1] #= 512   # tamanho da FFT para extração dos MFCCs\n",
    "hop_length = prepros_feat[2] #=0 # pulo entre cada frame\n",
    "n_mels = prepros_feat[3] #= 50   # numero de filtros MEL\n",
    "n_mfcc = prepros_feat[4] #= 16   # numero de coeficientes MFCC\n",
    "ofs_mfcc = prepros_feat[5] #=2   # offset dado para não utilizar os primeiros coeficientes MFCC      \n",
    "fmin = prepros_feat[6] #=100    # frequencia mínima do MFCC\n",
    "fmax = prepros_feat[7] #=4000   # frequencia máxima do MFCC\n",
    "n_frames_MFCC = prepros_feat[8] # = 10 # numero de frames MFCC que será usado para o reconhecimento.]\n",
    "frame_len = prepros_feat[9]\n",
    "frame_lenD2 = prepros_feat[10]"
   ]
  },
  {
   "cell_type": "markdown",
   "metadata": {},
   "source": [
    "# Test with Convolutional Layers"
   ]
  },
  {
   "cell_type": "code",
   "execution_count": 278,
   "metadata": {},
   "outputs": [
    {
     "name": "stdout",
     "output_type": "stream",
     "text": [
      "(13, 10, 1)\n",
      "Epoch 1/20\n",
      " - 1s - loss: 0.3732 - acc: 0.9709\n",
      "Epoch 2/20\n",
      " - 0s - loss: 0.1866 - acc: 0.9612\n",
      "Epoch 3/20\n",
      " - 0s - loss: 0.0603 - acc: 0.9830\n",
      "Epoch 4/20\n",
      " - 0s - loss: 0.0258 - acc: 0.9962\n",
      "Epoch 5/20\n",
      " - 0s - loss: 0.0169 - acc: 0.9977\n",
      "Epoch 6/20\n",
      " - 0s - loss: 0.0126 - acc: 0.9982\n",
      "Epoch 7/20\n",
      " - 0s - loss: 0.0096 - acc: 0.9987\n",
      "Epoch 8/20\n",
      " - 0s - loss: 0.0074 - acc: 0.9987\n",
      "Epoch 9/20\n",
      " - 0s - loss: 0.0062 - acc: 0.9997\n",
      "Epoch 10/20\n",
      " - 0s - loss: 0.0053 - acc: 1.0000\n",
      "Epoch 11/20\n",
      " - 0s - loss: 0.0048 - acc: 1.0000\n",
      "Epoch 12/20\n",
      " - 0s - loss: 0.0043 - acc: 1.0000\n",
      "Epoch 13/20\n",
      " - 0s - loss: 0.0040 - acc: 1.0000\n",
      "Epoch 14/20\n",
      " - 0s - loss: 0.0037 - acc: 1.0000\n",
      "Epoch 15/20\n",
      " - 0s - loss: 0.0034 - acc: 1.0000\n",
      "Epoch 16/20\n",
      " - 0s - loss: 0.0032 - acc: 1.0000\n",
      "Epoch 17/20\n",
      " - 0s - loss: 0.0030 - acc: 1.0000\n",
      "Epoch 18/20\n",
      " - 0s - loss: 0.0028 - acc: 1.0000\n",
      "Epoch 19/20\n",
      " - 0s - loss: 0.0026 - acc: 1.0000\n",
      "Epoch 20/20\n",
      " - 0s - loss: 0.0024 - acc: 1.0000\n"
     ]
    },
    {
     "data": {
      "text/plain": [
       "<keras.callbacks.History at 0x7f662a3c3160>"
      ]
     },
     "execution_count": 278,
     "metadata": {},
     "output_type": "execute_result"
    }
   ],
   "source": [
    "from keras.layers import Conv2D, MaxPooling2D, Input, Dense, Flatten\n",
    "\n",
    "input_shape = x_train.shape[1:]\n",
    "num_classes = 2\n",
    "\n",
    "# y_train = keras.utils.to_categorical(y_train, num_classes)\n",
    "# y_test = keras.utils.to_categorical(y_test, num_classes)\n",
    "\n",
    "print(input_shape)\n",
    "model = Sequential()\n",
    "model.add(Conv2D(3, kernel_size=(3, 3), strides=(1, 1),\n",
    "                 activation='relu',\n",
    "                 input_shape=input_shape))\n",
    "model.add(MaxPooling2D(pool_size=(2, 2), strides=(2, 2)))\n",
    "# model.add(Conv2D(4, (2, 2), activation='relu'))\n",
    "# model.add(MaxPooling2D(pool_size=(2, 2)))\n",
    "model.add(Flatten())\n",
    "# model.add(Dense(10, activation='relu'))\n",
    "model.add(Dense(num_classes, activation='softmax'))\n",
    "\n",
    "model.compile(loss='sparse_categorical_crossentropy',\n",
    "              optimizer='adam',\n",
    "              metrics=['accuracy'])\n",
    "\n",
    "model.fit(x_train, y_train,\n",
    "          epochs=20,\n",
    "          batch_size=128,\n",
    "          verbose=2)"
   ]
  },
  {
   "cell_type": "code",
   "execution_count": 279,
   "metadata": {},
   "outputs": [
    {
     "name": "stdout",
     "output_type": "stream",
     "text": [
      "(439, 13, 10, 1)\n",
      "6/6 [==============================] - 0s 32ms/step\n",
      "433/433 [==============================] - 0s 95us/step\n",
      "\n",
      "Score True of model with test KW dataset: 100.0 %\n",
      "\n",
      "Score False of model with test OOV dataset: 100.0 %\n",
      "\n"
     ]
    }
   ],
   "source": [
    "print(x_test.shape)\n",
    "y_KW = y_test[y_test[:,0] == 1, :]\n",
    "x_KW = x_test[y_test[:,0] == 1,:,:,:]\n",
    "\n",
    "y_OOV = y_test[y_test[:,0] == 0, :]\n",
    "x_OOV = x_test[y_test[:,0] == 0,:,:,:]\n",
    "\n",
    "scoreTrue = model.evaluate(x_KW, y_KW)\n",
    "scoreFalse = model.evaluate(x_OOV, y_OOV)\n",
    "\n",
    "print('\\nScore True of model with test KW dataset:', 100*scoreTrue[1],'%\\n')\n",
    "print('Score False of model with test OOV dataset:', 100*scoreFalse[1],'%\\n')"
   ]
  },
  {
   "cell_type": "code",
   "execution_count": 280,
   "metadata": {},
   "outputs": [],
   "source": [
    "def testNetWith(file, model, stride=512):\n",
    "       \n",
    "# stride = 1000\n",
    "# file = '../Exemplos_outros/Henrique_abre.wav'\n",
    "    [_, data_file] = wavread(file) # Lê todo o arquivo de audio\n",
    "    N = data_file.shape[0]\n",
    "    data_file = data_file/32767\n",
    "\n",
    "    data_pred_out = np.zeros(N)\n",
    "\n",
    "    center = 0\n",
    "    while(center<N):\n",
    "        MFCCsample = []\n",
    "        # verifica se os o frame está dentro dos limites do arquivo de audio\n",
    "        # e extrai o trecho de audio contendo a KW\n",
    "        if center < frame_lenD2:\n",
    "            frameSample = np.concatenate((np.zeros(frame_lenD2-center), data_file[0:center+frame_lenD2]))\n",
    "        elif (N-center) < frame_lenD2:\n",
    "            frameSample = np.concatenate((data_file[center-frame_lenD2:],np.zeros(frame_lenD2 - (N-center))))\n",
    "        else:\n",
    "            frameSample = data_file[center-frame_lenD2:center+frame_lenD2]\n",
    "        # frameSample.shape, frame_lenD2\n",
    "\n",
    "\n",
    "        MFCCsample.append(librosa.feature.mfcc(y=frameSample, sr=fs, fmin=fmin, fmax=fmax, \n",
    "                                     n_mfcc=n_mfcc, n_mels=n_mels, n_fft=n_fft)[ofs_mfcc:])\n",
    "\n",
    "        data_in = np.array(MFCCsample).reshape(1,13,10,1)\n",
    "\n",
    "        y_out = model.predict(data_in)\n",
    "\n",
    "        if (center+stride<=N):\n",
    "#             data_pred_out[center:center+stride] = round(y_out[0,1]) \n",
    "            data_pred_out[center] = round(y_out[0,1]) \n",
    "        else:\n",
    "#             data_pred_out[center:] =  round(y_out[0,1])\n",
    "            data_pred_out[center] =  round(y_out[0,1])\n",
    "\n",
    "        center += stride        \n",
    "    \n",
    "    return data_pred_out\n",
    "\n",
    "# y_out[0,1]"
   ]
  },
  {
   "cell_type": "code",
   "execution_count": null,
   "metadata": {},
   "outputs": [],
   "source": []
  },
  {
   "cell_type": "code",
   "execution_count": 281,
   "metadata": {},
   "outputs": [],
   "source": [
    "file = '../Exemplos_outros/Natan_abre2.wav'\n",
    "data_ex = testNetWith(file, model, stride=128)"
   ]
  },
  {
   "cell_type": "code",
   "execution_count": 282,
   "metadata": {},
   "outputs": [
    {
     "data": {
      "text/plain": [
       "[<matplotlib.lines.Line2D at 0x7f66381c9828>,\n",
       " <matplotlib.lines.Line2D at 0x7f662b4f8be0>]"
      ]
     },
     "execution_count": 282,
     "metadata": {},
     "output_type": "execute_result"
    },
    {
     "data": {
      "image/png": "[encoded data removed]",
      "text/plain": [
       "<Figure size 432x288 with 1 Axes>"
      ]
     },
     "metadata": {},
     "output_type": "display_data"
    }
   ],
   "source": [
    "[_, data_file] = wavread(file) # Lê todo o arquivo de audio\n",
    "N = data_file.shape[0]\n",
    "\n",
    "data_file = data_file/32767\n",
    "t = np.linspace(0,N/fs,N)\n",
    "\n",
    "look = [0,\n",
    "        400000]\n",
    "\n",
    "plt.plot(t[look[0]:look[1]], data_ex[look[0]:look[1]], 'r', \n",
    "         t[look[0]:look[1]], data_file[look[0]:look[1]], 'b')"
   ]
  },
  {
   "cell_type": "code",
   "execution_count": 292,
   "metadata": {},
   "outputs": [
    {
     "data": {
      "text/plain": [
       "[<matplotlib.lines.Line2D at 0x7f6629e6c518>,\n",
       " <matplotlib.lines.Line2D at 0x7f6629e6c668>]"
      ]
     },
     "execution_count": 292,
     "metadata": {},
     "output_type": "execute_result"
    },
    {
     "data": {
      "image/png": "[encoded data removed]",
      "text/plain": [
       "<Figure size 432x288 with 1 Axes>"
      ]
     },
     "metadata": {},
     "output_type": "display_data"
    }
   ],
   "source": [
    "tres = 0.02\n",
    "data_ex_2 = np.convolve(data_ex, np.ones(2000)/128, 'same')\n",
    "\n",
    "data_ex_3 = np.zeros(N)\n",
    "data_ex_3[data_ex_2>tres] = 1\n",
    "\n",
    "\n",
    "look = [0,\n",
    "        400000]\n",
    "\n",
    "plt.plot(t[look[0]:look[1]], data_ex_3[look[0]:look[1]], 'r', \n",
    "          t[look[0]:look[1]], data_file[look[0]:look[1]], 'b')"
   ]
  },
  {
   "cell_type": "code",
   "execution_count": null,
   "metadata": {},
   "outputs": [],
   "source": []
  }
 ],
 "metadata": {
  "kernelspec": {
   "display_name": "Python 3",
   "language": "python",
   "name": "python3"
  },
  "language_info": {
   "codemirror_mode": {
    "name": "ipython",
    "version": 3
   },
   "file_extension": ".py",
   "mimetype": "text/x-python",
   "name": "python",
   "nbconvert_exporter": "python",
   "pygments_lexer": "ipython3",
   "version": "3.6.4"
  }
 },
 "nbformat": 4,
 "nbformat_minor": 2
}
